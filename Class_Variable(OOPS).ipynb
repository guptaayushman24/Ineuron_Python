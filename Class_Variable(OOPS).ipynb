{
 "cells": [
  {
   "cell_type": "code",
   "execution_count": 13,
   "metadata": {},
   "outputs": [
    {
     "data": {
      "text/plain": [
       "'Krish'"
      ]
     },
     "execution_count": 13,
     "metadata": {},
     "output_type": "execute_result"
    }
   ],
   "source": [
    "class Employee :\n",
    "    company_name=\"iNeuron\" # Class Variable\n",
    "    def __init__(self,first_name,last_name) :\n",
    "        self.first_name = first_name # These is an instance variable\n",
    "        self.last_name = last_name\n",
    "\n",
    "    # If we want to change the name of the company\n",
    "    # def change_company(self,company_name) : # These is an instance method\n",
    "    #     self.company_name = company_name\n",
    "\n",
    "    # Class Method\n",
    "    @classmethod\n",
    "    def change_company(cls,company_name) : # These cls can access the class variable\n",
    "        cls.company_name = company_name\n",
    "        \n",
    "employee1 = Employee(\"Krish\",\"Naik\")\n",
    "# Object Attribute/Instance Attribute\n",
    "employee1.first_name"
   ]
  },
  {
   "cell_type": "code",
   "execution_count": 14,
   "metadata": {},
   "outputs": [
    {
     "data": {
      "text/plain": [
       "'iNeuron'"
      ]
     },
     "execution_count": 14,
     "metadata": {},
     "output_type": "execute_result"
    }
   ],
   "source": [
    "employee1.company_name # Printing the class variable"
   ]
  },
  {
   "cell_type": "code",
   "execution_count": 16,
   "metadata": {},
   "outputs": [
    {
     "data": {
      "text/plain": [
       "'PWSkills'"
      ]
     },
     "execution_count": 16,
     "metadata": {},
     "output_type": "execute_result"
    }
   ],
   "source": [
    "# Here we are calling the \"classmethod\" and changing the class variable name\n",
    "employee1.change_company(\"PWSkills\")\n",
    "employee1.company_name\n"
   ]
  },
  {
   "cell_type": "code",
   "execution_count": 32,
   "metadata": {},
   "outputs": [
    {
     "name": "stdout",
     "output_type": "stream",
     "text": [
      "Printing the base price of the car in 2023\n"
     ]
    },
    {
     "data": {
      "text/plain": [
       "100000"
      ]
     },
     "execution_count": 32,
     "metadata": {},
     "output_type": "execute_result"
    }
   ],
   "source": [
    "# Another Example\n",
    "class Car :\n",
    "    base_price = 100000 # Class Variable it was the base price is 2023\n",
    "    def __init__(self,model,brand) :\n",
    "        self.model = model\n",
    "        self.brand = brand\n",
    "\n",
    "    def display_price(self) :\n",
    "        print(\"The base price is {}\".format(self.base_price))\n",
    "\n",
    "\n",
    "\n",
    "# Suppose because of inflation in 2024 there is an increment of 10 % in the base class\n",
    "# So now we want to change the base price So for updating we the base price we have to use the decorator class\n",
    "\n",
    "    @classmethod\n",
    "    def update_base_price(cls,inflation) :\n",
    "        cls.base_price = cls.base_price+(cls.base_price)*(inflation/100)\n",
    "\n",
    "print(\"Printing the base price of the car in 2023\")\n",
    "Car.base_price\n"
   ]
  },
  {
   "cell_type": "code",
   "execution_count": 34,
   "metadata": {},
   "outputs": [
    {
     "name": "stdout",
     "output_type": "stream",
     "text": [
      "Printing the base price of the car in 2024\n"
     ]
    },
    {
     "data": {
      "text/plain": [
       "110000.0"
      ]
     },
     "execution_count": 34,
     "metadata": {},
     "output_type": "execute_result"
    }
   ],
   "source": [
    "# Calling the class method\n",
    "Car.update_base_price(10) # Class variable should be update from class itself now it will be updated for all the instances\n",
    "print(\"Printing the base price of the car in 2024\")\n",
    "Car.base_price"
   ]
  },
  {
   "cell_type": "code",
   "execution_count": 35,
   "metadata": {},
   "outputs": [
    {
     "data": {
      "text/plain": [
       "110000.0"
      ]
     },
     "execution_count": 35,
     "metadata": {},
     "output_type": "execute_result"
    }
   ],
   "source": [
    "car1 = Car(\"BMW\",\"EV\")\n",
    "car1.base_price"
   ]
  },
  {
   "cell_type": "code",
   "execution_count": 40,
   "metadata": {},
   "outputs": [
    {
     "data": {
      "text/plain": [
       "True"
      ]
     },
     "execution_count": 40,
     "metadata": {},
     "output_type": "execute_result"
    }
   ],
   "source": [
    "\n",
    "# Static Method in the python\n",
    "# Another Example\n",
    "class Car :\n",
    "    base_price = 100000 # Class Variable it was the base price is 2023\n",
    "    def __init__(self,model,brand) :\n",
    "        self.model = model\n",
    "        self.brand = brand\n",
    "\n",
    "    def display_price(self) :\n",
    "        print(\"The base price is {}\".format(self.base_price))\n",
    "\n",
    "\n",
    "\n",
    "# Suppose because of inflation in 2024 there is an increment of 10 % in the base class\n",
    "# So now we want to change the base price So for updating we the base price we have to use the decorator class\n",
    "\n",
    "    @classmethod\n",
    "    def update_base_price(cls,inflation) :\n",
    "        cls.base_price = cls.base_price+(cls.base_price)*(inflation/100)\n",
    "\n",
    "\n",
    "\n",
    "    @staticmethod  \n",
    "    # No dependency on the class variable no dependency on instance variable\n",
    "    # Utility Method\n",
    "    def check_year(year) :\n",
    "        if (year==2024) :\n",
    "            return True\n",
    "        else :\n",
    "            return False\n",
    "Car.check_year(2024)\n",
    "    "
   ]
  },
  {
   "cell_type": "code",
   "execution_count": 4,
   "metadata": {},
   "outputs": [
    {
     "data": {
      "text/plain": [
       "'Naik'"
      ]
     },
     "execution_count": 4,
     "metadata": {},
     "output_type": "execute_result"
    }
   ],
   "source": [
    "# New Decorator-> Data Class\n",
    "# In python 3.7\n",
    "# If we are using these decorartor then we do not have to create the constructor\n",
    "from dataclasses import dataclass\n",
    "@dataclass\n",
    "class Person :\n",
    "    first_name:str\n",
    "    last_name:str\n",
    "# Here also you can write the function and can use inheritence and all\n",
    "person1 = Person(\"Krish\",\"Naik\")\n",
    "person1.first_name\n",
    "person1.last_name\n",
    "# Assignment-> How to create the function when we are using the dataclass"
   ]
  },
  {
   "cell_type": "code",
   "execution_count": null,
   "metadata": {},
   "outputs": [],
   "source": []
  }
 ],
 "metadata": {
  "kernelspec": {
   "display_name": "Python 3",
   "language": "python",
   "name": "python3"
  },
  "language_info": {
   "codemirror_mode": {
    "name": "ipython",
    "version": 3
   },
   "file_extension": ".py",
   "mimetype": "text/x-python",
   "name": "python",
   "nbconvert_exporter": "python",
   "pygments_lexer": "ipython3",
   "version": "3.11.4"
  },
  "orig_nbformat": 4
 },
 "nbformat": 4,
 "nbformat_minor": 2
}
