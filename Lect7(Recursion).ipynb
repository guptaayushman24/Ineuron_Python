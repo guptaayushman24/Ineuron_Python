{
 "cells": [
  {
   "cell_type": "code",
   "execution_count": 1,
   "metadata": {},
   "outputs": [
    {
     "name": "stdout",
     "output_type": "stream",
     "text": [
      "15\n"
     ]
    }
   ],
   "source": [
    "# Recursion\n",
    "# Sum of n number using recursion\n",
    "def rec_sum(n) :\n",
    "    if n==1 :\n",
    "        return 1\n",
    "    else :\n",
    "        return n+rec_sum(n-1)\n",
    "print(rec_sum(5))  # 5+4+3+2+1\n"
   ]
  },
  {
   "cell_type": "code",
   "execution_count": 3,
   "metadata": {},
   "outputs": [
    {
     "name": "stdout",
     "output_type": "stream",
     "text": [
      "6\n",
      "24\n"
     ]
    }
   ],
   "source": [
    "# Factorial of the number using recursion\n",
    "def factorial (n) :\n",
    "    if (n==0 or n==1) :\n",
    "        return 1\n",
    "    else :\n",
    "        return n*factorial(n-1)\n",
    "print(factorial(3))\n",
    "print(factorial(4))"
   ]
  },
  {
   "cell_type": "code",
   "execution_count": 10,
   "metadata": {},
   "outputs": [
    {
     "name": "stdout",
     "output_type": "stream",
     "text": [
      "5\n",
      "13\n"
     ]
    }
   ],
   "source": [
    "# Fibanocci series using recursion\n",
    "def fibba(n) :\n",
    "    if (n==1 or n==2) :\n",
    "        return 1\n",
    "    else :\n",
    "        return fibba(n-1)+fibba(n-2)\n",
    "print(fibba(5))\n",
    "print(fibba(7))\n"
   ]
  },
  {
   "cell_type": "code",
   "execution_count": 11,
   "metadata": {},
   "outputs": [
    {
     "name": "stdout",
     "output_type": "stream",
     "text": [
      "0\n",
      "1\n",
      "2\n",
      "3\n",
      "4\n"
     ]
    }
   ],
   "source": [
    "n=5\n",
    "for i in range (n) :\n",
    "    print(i)\n"
   ]
  },
  {
   "cell_type": "code",
   "execution_count": 4,
   "metadata": {},
   "outputs": [
    {
     "name": "stdout",
     "output_type": "stream",
     "text": [
      "0\n",
      "1\n",
      "1\n",
      "2\n",
      "None\n",
      "0\n",
      "1\n",
      "1\n",
      "2\n",
      "3\n",
      "None\n"
     ]
    }
   ],
   "source": [
    "def fibanaci(n) :\n",
    "    a=0\n",
    "    b=1\n",
    "    for i in range (0,n) :\n",
    "        print(a)\n",
    "        a,b=b,a+b\n",
    "print(fibanaci(4))\n",
    "print(fibanaci(5))\n",
    "\n"
   ]
  },
  {
   "cell_type": "code",
   "execution_count": 7,
   "metadata": {},
   "outputs": [
    {
     "name": "stdout",
     "output_type": "stream",
     "text": [
      "[0, 1, 1, 2]\n",
      "[0, 1, 1, 2, 3]\n"
     ]
    }
   ],
   "source": [
    "# Printing fibananci series using recursion\n",
    "def print_fib(n) :\n",
    "    if n<=0 :\n",
    "        return []\n",
    "    elif n==1:\n",
    "        return [0]\n",
    "    elif n==2:\n",
    "        return [0,1]\n",
    "    else:\n",
    "        fib_series = print_fib(n-1)\n",
    "        fib_series.append(fib_series[-1]+fib_series[-2])\n",
    "        return fib_series\n",
    "print(print_fib(4))\n",
    "print(print_fib(5))\n",
    "\n",
    "\n"
   ]
  },
  {
   "cell_type": "code",
   "execution_count": null,
   "metadata": {},
   "outputs": [],
   "source": []
  }
 ],
 "metadata": {
  "kernelspec": {
   "display_name": "Python 3",
   "language": "python",
   "name": "python3"
  },
  "language_info": {
   "codemirror_mode": {
    "name": "ipython",
    "version": 3
   },
   "file_extension": ".py",
   "mimetype": "text/x-python",
   "name": "python",
   "nbconvert_exporter": "python",
   "pygments_lexer": "ipython3",
   "version": "3.11.0"
  },
  "orig_nbformat": 4
 },
 "nbformat": 4,
 "nbformat_minor": 2
}
