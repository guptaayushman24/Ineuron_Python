{
 "cells": [
  {
   "cell_type": "code",
   "execution_count": 1,
   "metadata": {},
   "outputs": [],
   "source": [
    "# Here we are defining our exception\n",
    "# Here MyCustomError is just a name and Exception the inbuilt class in python\n",
    "class MyCustomError(Exception) :\n",
    "    pass"
   ]
  },
  {
   "cell_type": "code",
   "execution_count": 4,
   "metadata": {},
   "outputs": [
    {
     "ename": "MyCustomError",
     "evalue": "This is my custome exception",
     "output_type": "error",
     "traceback": [
      "\u001b[1;31m---------------------------------------------------------------------------\u001b[0m",
      "\u001b[1;31mMyCustomError\u001b[0m                             Traceback (most recent call last)",
      "Cell \u001b[1;32mIn[4], line 1\u001b[0m\n\u001b[1;32m----> 1\u001b[0m \u001b[39mraise\u001b[39;00m MyCustomError(\u001b[39m\"\u001b[39m\u001b[39mThis is my custome exception\u001b[39m\u001b[39m\"\u001b[39m)\n",
      "\u001b[1;31mMyCustomError\u001b[0m: This is my custome exception"
     ]
    }
   ],
   "source": [
    "raise MyCustomError(\"This is my custome exception\")\n"
   ]
  },
  {
   "cell_type": "code",
   "execution_count": 5,
   "metadata": {},
   "outputs": [],
   "source": [
    "class WrongAge(Exception) :\n",
    "    \"Raised when the input is less than 18\"\n",
    "    pass"
   ]
  },
  {
   "cell_type": "code",
   "execution_count": 1,
   "metadata": {},
   "outputs": [
    {
     "name": "stdout",
     "output_type": "stream",
     "text": [
      "You cannot vote at these age\n"
     ]
    }
   ],
   "source": [
    "n=18\n",
    "try:\n",
    "    input_num = int(input())\n",
    "    if (input_num<n) :\n",
    "        raise WrongAge # Here we are calling our exception\n",
    "    else :\n",
    "        print(\"You can vote\")\n",
    "except :\n",
    "    print(\"You cannot vote at these age\")\n",
    "\n"
   ]
  },
  {
   "cell_type": "code",
   "execution_count": 18,
   "metadata": {},
   "outputs": [
    {
     "name": "stderr",
     "output_type": "stream",
     "text": [
      "DEBUG:root:This is debug message\n",
      "INFO:root:This is information message\n",
      "WARNING:root:This is warning message\n",
      "CRITICAL:root:This is a critical error message\n"
     ]
    }
   ],
   "source": [
    "# Logging\n",
    "import logging # These is the library given by the python\n",
    "# Debug\n",
    "# Info\n",
    "# Warning\n",
    "# Error\n",
    "# Critical Error\n",
    "\n",
    "# Increasing order of the error\n",
    "# Critical > Error > Warning > Info > Debug\n",
    "\n",
    "# Example of Debug logging\n",
    "logging.basicConfig(level=logging.DEBUG)\n",
    "logging.debug(\"This is debug message\")\n",
    "logging.info(\"This is information message\")\n",
    "logging.warning(\"This is warning message\")\n",
    "logging.critical(\"This is a critical error message\")"
   ]
  },
  {
   "cell_type": "code",
   "execution_count": 21,
   "metadata": {},
   "outputs": [
    {
     "name": "stderr",
     "output_type": "stream",
     "text": [
      "DEBUG:root:variables are 2 and 3\n"
     ]
    },
    {
     "data": {
      "text/plain": [
       "5"
      ]
     },
     "execution_count": 21,
     "metadata": {},
     "output_type": "execute_result"
    }
   ],
   "source": [
    "import logging\n",
    "logging.basicConfig(level=logging.DEBUG)\n",
    "\n",
    "def add(x, y):\n",
    "    # Here you can use the print statement also to print the value of x and y but we can save the debug value in the seperate file also\n",
    "    logging.debug('variables are %s and %s', x, y)\n",
    "    return x + y\n",
    "\n",
    "add(2, 3)\n"
   ]
  },
  {
   "cell_type": "code",
   "execution_count": 3,
   "metadata": {},
   "outputs": [
    {
     "name": "stderr",
     "output_type": "stream",
     "text": [
      "INFO:root:User name is Admin\n"
     ]
    }
   ],
   "source": [
    "# Info Logging\n",
    "import logging\n",
    "logging.basicConfig(level=logging.INFO)\n",
    "def login123(user) :\n",
    "    logging.info('User name is %s',user);\n",
    "login123(\"Admin\")"
   ]
  },
  {
   "cell_type": "code",
   "execution_count": 5,
   "metadata": {},
   "outputs": [
    {
     "name": "stderr",
     "output_type": "stream",
     "text": [
      "WARNING:root:Sorry you have low balance ,your balance is 10000 \n"
     ]
    }
   ],
   "source": [
    "# Warning Logging\n",
    "import logging\n",
    "logging.basicConfig(level=logging.WARNING)\n",
    "def MyBalance(amount) :\n",
    "    if (amount<40000) :\n",
    "        logging.warning(\"Sorry you have low balance ,your balance is %s \",amount)\n",
    "MyBalance(10000)"
   ]
  },
  {
   "cell_type": "code",
   "execution_count": 6,
   "metadata": {},
   "outputs": [
    {
     "name": "stderr",
     "output_type": "stream",
     "text": [
      "ERROR:root:Divison by zero error\n"
     ]
    }
   ],
   "source": [
    "# Error Logging\n",
    "import logging\n",
    "logging.basicConfig(level=logging.ERROR)\n",
    "def DivideByZero(n,d) :\n",
    "    try :\n",
    "        result = n/d\n",
    "    except ZeroDivisionError :\n",
    "        logging.error(\"Divison by zero error\")\n",
    "    else :\n",
    "        print(result)\n",
    "DivideByZero(5,0)\n"
   ]
  },
  {
   "cell_type": "code",
   "execution_count": 7,
   "metadata": {},
   "outputs": [
    {
     "name": "stderr",
     "output_type": "stream",
     "text": [
      "CRITICAL:root:System failed to boot You need to handle this issue\n"
     ]
    }
   ],
   "source": [
    "# Critical Logging\n",
    "import logging\n",
    "logging.basicConfig(level=logging.CRITICAL)\n",
    "def LetUsCheckSystem(sys) :\n",
    "    if (sys!='OK') :\n",
    "        logging.critical(\"System failed to boot %s\", sys)\n",
    "LetUsCheckSystem(\"You need to handle this issue\")\n",
    "\n"
   ]
  },
  {
   "cell_type": "code",
   "execution_count": 8,
   "metadata": {},
   "outputs": [
    {
     "name": "stdout",
     "output_type": "stream",
     "text": [
      "c:\\Users\\gupta\\OneDrive\\Desktop\\Ineron(Python)\n"
     ]
    }
   ],
   "source": [
    "# Now we want to save these log into the file for the future refernce\n",
    "import os\n",
    "print(os.getcwd())"
   ]
  },
  {
   "cell_type": "code",
   "execution_count": 11,
   "metadata": {},
   "outputs": [
    {
     "name": "stderr",
     "output_type": "stream",
     "text": [
      "CRITICAL:root:System failure: You need to solve this\n"
     ]
    }
   ],
   "source": [
    "import logging\n",
    "# Path where I want to save the file\n",
    "dir_path = r'c:\\Users\\gupta\\OneDrive\\Desktop\\Ineron'\n",
    "# File name\n",
    "log_file = 'system.txt'\n",
    "# Joining path name and file name\n",
    "full_path = os.path.join(dir_path,log_file)\n",
    "# Checking for particular path\n",
    "os.makedirs(dir_path,exist_ok=True)\n",
    "logger = logging.getLogger()\n",
    "# Here you are setting the level of the warning\n",
    "logger.setLevel(logging.CRITICAL)\n",
    "# What are the logging event connected to the handler\n",
    "handler = logging.FileHandler(full_path)\n",
    "# Here we are setting what information we want in the 'system' file\n",
    "handler.setFormatter(logging.Formatter('%(asctime)s:%(levelname)s:%(message)s'))\n",
    "logger.addHandler(handler)\n",
    "\n",
    "def LetUsCheckSystem(sys) :\n",
    "    if (sys!='OK') :\n",
    "        logging.critical('System failure: %s', sys)\n",
    "LetUsCheckSystem(\"You need to solve this\")\n",
    "handler.close()"
   ]
  },
  {
   "cell_type": "code",
   "execution_count": null,
   "metadata": {},
   "outputs": [],
   "source": []
  }
 ],
 "metadata": {
  "kernelspec": {
   "display_name": "Python 3",
   "language": "python",
   "name": "python3"
  },
  "language_info": {
   "codemirror_mode": {
    "name": "ipython",
    "version": 3
   },
   "file_extension": ".py",
   "mimetype": "text/x-python",
   "name": "python",
   "nbconvert_exporter": "python",
   "pygments_lexer": "ipython3",
   "version": "3.11.4"
  },
  "orig_nbformat": 4
 },
 "nbformat": 4,
 "nbformat_minor": 2
}
