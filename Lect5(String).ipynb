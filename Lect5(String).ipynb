{
 "cells": [
  {
   "cell_type": "code",
   "execution_count": 8,
   "metadata": {},
   "outputs": [
    {
     "name": "stdout",
     "output_type": "stream",
     "text": [
      "Johe Doe\n"
     ]
    }
   ],
   "source": [
    "name=\"Johe Doe\"\n",
    "print(name)"
   ]
  },
  {
   "cell_type": "code",
   "execution_count": 9,
   "metadata": {},
   "outputs": [
    {
     "name": "stdout",
     "output_type": "stream",
     "text": [
      "h\n",
      "D\n"
     ]
    }
   ],
   "source": [
    "# index starts from 0 to n-1\n",
    "print(name[2])\n",
    "print(name[5])"
   ]
  },
  {
   "cell_type": "code",
   "execution_count": 10,
   "metadata": {},
   "outputs": [
    {
     "name": "stdout",
     "output_type": "stream",
     "text": [
      "h\n",
      "e\n",
      "l\n",
      "l\n",
      "o\n"
     ]
    }
   ],
   "source": [
    "for i in \"hello\" :\n",
    "    print(i)"
   ]
  },
  {
   "cell_type": "code",
   "execution_count": 11,
   "metadata": {},
   "outputs": [
    {
     "name": "stdout",
     "output_type": "stream",
     "text": [
      "AXAT7821TY\n"
     ]
    }
   ],
   "source": [
    "panno=\"AXAT7821TY\"\n",
    "print(panno)"
   ]
  },
  {
   "cell_type": "code",
   "execution_count": 14,
   "metadata": {},
   "outputs": [
    {
     "name": "stdout",
     "output_type": "stream",
     "text": [
      "11\n"
     ]
    }
   ],
   "source": [
    "panno=\"AXAT7821TY1\"\n",
    "print(len(panno))"
   ]
  },
  {
   "cell_type": "code",
   "execution_count": 15,
   "metadata": {},
   "outputs": [
    {
     "name": "stdout",
     "output_type": "stream",
     "text": [
      "True\n"
     ]
    }
   ],
   "source": [
    "tw=\"Indian economy growth is not as expected\"\n",
    "print(\"not\" in tw)  # It is searching for the \"not\" word in the string tw"
   ]
  },
  {
   "cell_type": "code",
   "execution_count": 16,
   "metadata": {},
   "outputs": [
    {
     "name": "stdout",
     "output_type": "stream",
     "text": [
      "Data is there in tw\n"
     ]
    }
   ],
   "source": [
    "tw=\"Indian economy growth is not as expected\"\n",
    "if \"is\" in tw:\n",
    "    print(\"Data is there in tw\")"
   ]
  },
  {
   "cell_type": "code",
   "execution_count": 20,
   "metadata": {},
   "outputs": [
    {
     "name": "stdout",
     "output_type": "stream",
     "text": [
      "Data is not there in tw\n"
     ]
    }
   ],
   "source": [
    "tw=\"Indian economy growth is not as expected\"\n",
    "if \"abcd\" not in tw: # These is the opposite of not in\n",
    "    print(\"Data is not there in tw\")"
   ]
  },
  {
   "cell_type": "code",
   "execution_count": 3,
   "metadata": {},
   "outputs": [
    {
     "name": "stdout",
     "output_type": "stream",
     "text": [
      "h\n"
     ]
    }
   ],
   "source": [
    "# Slicing\n",
    "# String name[start,end]\n",
    "# Start is inclusive\n",
    "# End is exclusive\n",
    "name = \"John Doe\"\n",
    "print(name[2])"
   ]
  },
  {
   "cell_type": "code",
   "execution_count": 6,
   "metadata": {},
   "outputs": [
    {
     "name": "stdout",
     "output_type": "stream",
     "text": [
      "John\n",
      "John\n",
      "Doe\n"
     ]
    }
   ],
   "source": [
    "name = \"John Doe\"\n",
    "print(name[0:4])  #0->J 3(3+1=4)->n end is not inclusive\n",
    "print(name[:4]) # By default initial index is 0 if we are not passing\n",
    "print(name[5:]) # By default if there is nothing after colon then it will go till the last position\n"
   ]
  },
  {
   "cell_type": "code",
   "execution_count": 9,
   "metadata": {},
   "outputs": [
    {
     "name": "stdout",
     "output_type": "stream",
     "text": [
      "Doe\n",
      "ohn\n"
     ]
    }
   ],
   "source": [
    "# Another Way\n",
    "print(name[-3:])\n",
    "print(name[-7:-4])"
   ]
  },
  {
   "cell_type": "code",
   "execution_count": 11,
   "metadata": {},
   "outputs": [
    {
     "name": "stdout",
     "output_type": "stream",
     "text": [
      "JOHN DOE\n",
      "john doe\n"
     ]
    }
   ],
   "source": [
    "# Functions in the string\n",
    "name = \"john doe\"\n",
    "print(name.upper())\n",
    "print(name.lower())\n"
   ]
  },
  {
   "cell_type": "code",
   "execution_count": 18,
   "metadata": {},
   "outputs": [
    {
     "name": "stdout",
     "output_type": "stream",
     "text": [
      "John doe\n",
      "john toe\n",
      "john doe\n"
     ]
    }
   ],
   "source": [
    "# Replacing the character of the string with the other characters\n",
    "name = \"john doe\"\n",
    "print(name.replace(\"j\",\"J\")) #replace(what,by)\n",
    "print(name.replace(\"d\",\"t\"))\n",
    "print(name)"
   ]
  },
  {
   "cell_type": "code",
   "execution_count": 19,
   "metadata": {},
   "outputs": [
    {
     "name": "stdout",
     "output_type": "stream",
     "text": [
      "['john', 'doe']\n"
     ]
    }
   ],
   "source": [
    "# Split Function\n",
    "name = \"john doe\"\n",
    "print(name.split(\" \")) # Here we are using the condition of the space"
   ]
  },
  {
   "cell_type": "code",
   "execution_count": 20,
   "metadata": {},
   "outputs": [
    {
     "name": "stdout",
     "output_type": "stream",
     "text": [
      "['j', 'hn d', 'e']\n"
     ]
    }
   ],
   "source": [
    "name = \"john doe\"\n",
    "print(name.split(\"o\"))"
   ]
  },
  {
   "cell_type": "code",
   "execution_count": 31,
   "metadata": {},
   "outputs": [
    {
     "name": "stdout",
     "output_type": "stream",
     "text": [
      "John Doe\n"
     ]
    }
   ],
   "source": [
    "# Concatanation of the string\n",
    "#1000 USD\n",
    "n1=\"John\"\n",
    "n2=\"Doe\"\n",
    "name=n1+ \" \" +n2\n",
    "print(name)"
   ]
  },
  {
   "cell_type": "code",
   "execution_count": 33,
   "metadata": {},
   "outputs": [
    {
     "name": "stdout",
     "output_type": "stream",
     "text": [
      "['Apple', 'Banana', 'Cherris']\n",
      "------------------------------\n",
      "['Apple', 'Mangoes', 'Cherris']\n"
     ]
    }
   ],
   "source": [
    "# Changing the particular element in the list\n",
    "list1=[\"Apple\",\"Banana\",\"Cherris\"]\n",
    "print(list1)\n",
    "print(\"------------------------------\")\n",
    "list1[1] = \"Mangoes\"\n",
    "print(list1)\n"
   ]
  },
  {
   "cell_type": "code",
   "execution_count": 41,
   "metadata": {},
   "outputs": [
    {
     "name": "stdout",
     "output_type": "stream",
     "text": [
      "['Apple', 'Banana', 'Cherris', 'Grapes', 'Almonds']\n",
      "------------------------------\n",
      "['Apple', 'Mangoes', 'Blue Berris', 'Grapes', 'Almonds']\n"
     ]
    }
   ],
   "source": [
    "list1=[\"Apple\",\"Banana\",\"Cherris\",\"Grapes\",\"Almonds\"]\n",
    "print(list1)\n",
    "print(\"------------------------------\")\n",
    "# Changing the two element of the list\n",
    "list1[1:3] = [\"Mangoes\",\"Blue Berris\"]\n",
    "print(list1)\n"
   ]
  },
  {
   "cell_type": "code",
   "execution_count": 3,
   "metadata": {},
   "outputs": [
    {
     "name": "stdout",
     "output_type": "stream",
     "text": [
      "['Apples', 'Banana']\n",
      "---------------------------\n",
      "['Apples', 'Mangoes', 'Banana']\n"
     ]
    }
   ],
   "source": [
    "# If I want to insert the item in the list\n",
    "list1=[\"Apples\",\"Banana\"]\n",
    "print(list1)\n",
    "print(\"---------------------------\")\n",
    "list1.insert(1,\"Mangoes\")\n",
    "print(list1)"
   ]
  },
  {
   "cell_type": "code",
   "execution_count": 7,
   "metadata": {},
   "outputs": [
    {
     "name": "stdout",
     "output_type": "stream",
     "text": [
      "['Apples', 'Banana']\n",
      "---------------------------\n",
      "['Apples', 'Banana', 'Orange']\n"
     ]
    }
   ],
   "source": [
    "# Append Function\n",
    "# Diiference between list and append is that in insert function you have to pass the index but append will by default add the item at the last position of the last position in the list\n",
    "list1=[\"Apples\",\"Banana\"]\n",
    "print(list1)\n",
    "print(\"---------------------------\")\n",
    "list1.append(\"Orange\")\n",
    "print(list1)"
   ]
  },
  {
   "cell_type": "code",
   "execution_count": 9,
   "metadata": {},
   "outputs": [
    {
     "name": "stdout",
     "output_type": "stream",
     "text": [
      "['Apple', 'Banana', 'Mangoes', 'Cherries']\n"
     ]
    }
   ],
   "source": [
    "# If we want to merge the two list\n",
    "list1=[\"Apple\",\"Banana\"]\n",
    "list2=[\"Mangoes\",\"Cherries\"]\n",
    "list1.extend(list2)\n",
    "print(list1)"
   ]
  },
  {
   "cell_type": "code",
   "execution_count": 10,
   "metadata": {},
   "outputs": [
    {
     "name": "stdout",
     "output_type": "stream",
     "text": [
      "['Apple', 'Banana', 'Mangoes', 'Cherris']\n",
      "------------------\n",
      "['Apple', 'Mangoes', 'Cherris']\n"
     ]
    }
   ],
   "source": [
    "# If we want to remove the item position from the list\n",
    "list1=[\"Apple\",\"Banana\",\"Mangoes\",\"Cherris\"]\n",
    "print(list1)\n",
    "print(\"------------------\")\n",
    "list1.remove(\"Banana\")\n",
    "print(list1)"
   ]
  },
  {
   "cell_type": "code",
   "execution_count": 15,
   "metadata": {},
   "outputs": [
    {
     "name": "stdout",
     "output_type": "stream",
     "text": [
      "['Apple', 'Banana', 'Mangoes', 'Cherris']\n",
      "------------------\n",
      "['Apple', 'Mangoes', 'Cherris']\n"
     ]
    }
   ],
   "source": [
    "# Pop function\n",
    "# Pop function also removes the item from the list but you have to pass the index as the argument\n",
    "list1=[\"Apple\",\"Banana\",\"Mangoes\",\"Cherris\"]\n",
    "print(list1)\n",
    "print(\"------------------\")\n",
    "list1.pop(1)\n",
    "print(list1)"
   ]
  },
  {
   "cell_type": "code",
   "execution_count": 17,
   "metadata": {},
   "outputs": [
    {
     "name": "stdout",
     "output_type": "stream",
     "text": [
      "['Apple', 'Banana', 'Mangoes', 'Cherris']\n",
      "------------------\n",
      "['Apple', 'Mangoes', 'Cherris']\n"
     ]
    }
   ],
   "source": [
    "# Del function\n",
    "list1=[\"Apple\",\"Banana\",\"Mangoes\",\"Cherris\"]\n",
    "print(list1)\n",
    "print(\"------------------\")\n",
    "del list1[1]\n",
    "print(list1)\n"
   ]
  },
  {
   "cell_type": "code",
   "execution_count": 18,
   "metadata": {},
   "outputs": [],
   "source": [
    "# What is the difference between remove,pop and del\n",
    "# Difference between the pop and del the major difference is deleting the item"
   ]
  },
  {
   "cell_type": "code",
   "execution_count": 24,
   "metadata": {},
   "outputs": [
    {
     "name": "stdout",
     "output_type": "stream",
     "text": [
      "Apple Banana Mangoes Cherris "
     ]
    }
   ],
   "source": [
    "list1=[\"Apple\",\"Banana\",\"Mangoes\",\"Cherris\"]\n",
    "for i in range (0,len(list1)) :\n",
    "    print(list1[i],end=\" \")"
   ]
  },
  {
   "cell_type": "code",
   "execution_count": 25,
   "metadata": {},
   "outputs": [
    {
     "name": "stdout",
     "output_type": "stream",
     "text": [
      "Apple Banana Mangoes Cherris "
     ]
    }
   ],
   "source": [
    "list1=[\"Apple\",\"Banana\",\"Mangoes\",\"Cherris\"]\n",
    "for i in list1:\n",
    "    print(i,end=\" \")"
   ]
  },
  {
   "cell_type": "code",
   "execution_count": 26,
   "metadata": {},
   "outputs": [
    {
     "name": "stdout",
     "output_type": "stream",
     "text": [
      "['Apple']\n"
     ]
    }
   ],
   "source": [
    "list1=[\"Apple\",\"Banana\",\"Mangoes\",\"Cherris\"]\n",
    "newlist=[]\n",
    "for i in list1:\n",
    "    if \"A\" in i:\n",
    "        newlist.append(i)\n",
    "print(newlist)\n"
   ]
  },
  {
   "cell_type": "code",
   "execution_count": 28,
   "metadata": {},
   "outputs": [
    {
     "name": "stdout",
     "output_type": "stream",
     "text": [
      "['Apple']\n"
     ]
    }
   ],
   "source": [
    "# Short hand code for the above implementation\n",
    "# Passing the loop in the list\n",
    "list1=[\"Apple\",\"Banana\",\"Mangoes\",\"Cherris\"]\n",
    "newlist=[i for i in list1 if \"A\" in i]\n",
    "print(newlist)"
   ]
  },
  {
   "cell_type": "code",
   "execution_count": 34,
   "metadata": {},
   "outputs": [
    {
     "name": "stdout",
     "output_type": "stream",
     "text": [
      "['Banana']\n"
     ]
    }
   ],
   "source": [
    "# Another example for the above code\n",
    "list1=[\"Apple\",\"Banana\",\"Mangoes\",\"Cherris\"]\n",
    "newlist=[i for i in list1 if \"B\" in i]\n",
    "print(newlist)"
   ]
  },
  {
   "cell_type": "code",
   "execution_count": 35,
   "metadata": {},
   "outputs": [
    {
     "name": "stdout",
     "output_type": "stream",
     "text": [
      "['Apple', 'Banana', 'Cherris', 'Mangoes']\n"
     ]
    }
   ],
   "source": [
    "# Sorting function\n",
    "# Sorting in the increasing order\n",
    "list1=[\"Apple\",\"Banana\",\"Mangoes\",\"Cherris\"]\n",
    "list1.sort()\n",
    "print(list1)"
   ]
  },
  {
   "cell_type": "code",
   "execution_count": 37,
   "metadata": {},
   "outputs": [
    {
     "name": "stdout",
     "output_type": "stream",
     "text": [
      "['Mangoes', 'Cherris', 'Banana', 'Apple']\n"
     ]
    }
   ],
   "source": [
    "# Sorting function\n",
    "# Sorting in the decreasing order\n",
    "list1=[\"Apple\",\"Banana\",\"Mangoes\",\"Cherris\"]\n",
    "list1.sort(reverse=True)\n",
    "print(list1)"
   ]
  },
  {
   "cell_type": "code",
   "execution_count": 45,
   "metadata": {},
   "outputs": [
    {
     "name": "stdout",
     "output_type": "stream",
     "text": [
      "Printing the list in the increasing order\n",
      "[1, 5, 10, 30]\n",
      "------------------------------------------------------\n",
      "Printing the list in the decreasing order\n",
      "[30, 10, 5, 1]\n"
     ]
    }
   ],
   "source": [
    "a=[1,10,5,30]\n",
    "print(\"Printing the list in the increasing order\")\n",
    "a.sort()\n",
    "print(a)\n",
    "print(\"------------------------------------------------------\")\n",
    "print(\"Printing the list in the decreasing order\")\n",
    "a.sort(reverse=True)\n",
    "print(a)"
   ]
  },
  {
   "cell_type": "code",
   "execution_count": 1,
   "metadata": {},
   "outputs": [
    {
     "name": "stdout",
     "output_type": "stream",
     "text": [
      "['Apple', 'Banana', 'Mangoes', 'Cherris']\n"
     ]
    }
   ],
   "source": [
    "# Copy the list in the another list\n",
    "list1=[\"Apple\",\"Banana\",\"Mangoes\",\"Cherris\"]\n",
    "list2=list1.copy()\n",
    "print(list2)"
   ]
  },
  {
   "cell_type": "code",
   "execution_count": null,
   "metadata": {},
   "outputs": [],
   "source": []
  }
 ],
 "metadata": {
  "kernelspec": {
   "display_name": "Python 3",
   "language": "python",
   "name": "python3"
  },
  "language_info": {
   "codemirror_mode": {
    "name": "ipython",
    "version": 3
   },
   "file_extension": ".py",
   "mimetype": "text/x-python",
   "name": "python",
   "nbconvert_exporter": "python",
   "pygments_lexer": "ipython3",
   "version": "3.11.0"
  },
  "orig_nbformat": 4
 },
 "nbformat": 4,
 "nbformat_minor": 2
}
