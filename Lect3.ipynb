{
 "cells": [
  {
   "cell_type": "code",
   "execution_count": 16,
   "metadata": {},
   "outputs": [
    {
     "name": "stdout",
     "output_type": "stream",
     "text": [
      "13\n",
      "7\n",
      "30\n",
      "3.3333333333333335\n",
      "3\n"
     ]
    }
   ],
   "source": [
    "# Arithmetic Operator\n",
    "a=10\n",
    "b=3\n",
    "print(a+b)\n",
    "print(a-b)\n",
    "print(a*b)\n",
    "print(a/b)\n",
    "print(a//b) # Floor Division"
   ]
  },
  {
   "cell_type": "code",
   "execution_count": 17,
   "metadata": {},
   "outputs": [
    {
     "name": "stdout",
     "output_type": "stream",
     "text": [
      "1\n"
     ]
    }
   ],
   "source": [
    "# Modulo Operator\n",
    "a=10\n",
    "b=3\n",
    "print(a%b) # Reminder"
   ]
  },
  {
   "cell_type": "code",
   "execution_count": 18,
   "metadata": {},
   "outputs": [
    {
     "name": "stdout",
     "output_type": "stream",
     "text": [
      "8\n"
     ]
    }
   ],
   "source": [
    "# Exponent Operator\n",
    "a=2\n",
    "b=3\n",
    "print(a**b)\n",
    " "
   ]
  },
  {
   "cell_type": "code",
   "execution_count": 19,
   "metadata": {},
   "outputs": [
    {
     "name": "stdout",
     "output_type": "stream",
     "text": [
      "False\n",
      "True\n",
      "True\n",
      "False\n"
     ]
    }
   ],
   "source": [
    "# Comparision Operator\n",
    "a=10\n",
    "b=20\n",
    "print(a==b)\n",
    "a=2\n",
    "b=2\n",
    "print(a==b)\n",
    "a=10\n",
    "b=20\n",
    "print(a!=b) # Checking a is not equal to b\n",
    "a=2\n",
    "b=2\n",
    "print(a!=b) # These is the not equal condition\n"
   ]
  },
  {
   "cell_type": "code",
   "execution_count": 20,
   "metadata": {},
   "outputs": [
    {
     "name": "stdout",
     "output_type": "stream",
     "text": [
      "False\n",
      "True\n",
      "True\n",
      "True\n"
     ]
    }
   ],
   "source": [
    "a=10\n",
    "b=15\n",
    "print(a>b)\n",
    "a=20\n",
    "b=15\n",
    "print(a>b)\n",
    "a=30\n",
    "b=30\n",
    "print(a>=b)\n",
    "a=30\n",
    "b=30\n",
    "print(a>=b)"
   ]
  },
  {
   "cell_type": "code",
   "execution_count": 21,
   "metadata": {},
   "outputs": [
    {
     "name": "stdout",
     "output_type": "stream",
     "text": [
      "False\n",
      "True\n",
      "False\n",
      "True\n"
     ]
    }
   ],
   "source": [
    "# Logical Operator\n",
    "# AND -> Both condition should satisfy\n",
    "# OR-> Either one condition will satisfy\n",
    "# Not-> Opposite to what you have\n",
    "# AND\n",
    "a=True\n",
    "b=False\n",
    "print(a and b)\n",
    "# OR\n",
    "a=True\n",
    "b=False\n",
    "print(a or b)\n",
    "a=True\n",
    "print(not a)\n",
    "a=False\n",
    "print(not a)"
   ]
  },
  {
   "cell_type": "code",
   "execution_count": 22,
   "metadata": {},
   "outputs": [
    {
     "name": "stdout",
     "output_type": "stream",
     "text": [
      "0\n",
      "0\n",
      "14\n",
      "0b1110\n"
     ]
    }
   ],
   "source": [
    "# Binary Numbers\n",
    "# 0,1 10=1010\n",
    "# AND operator->&a\n",
    "a=10 #1010\n",
    "b=4  #0100\n",
    "result=a&b #->Compare the each bit of the both the operand and if both bit is 1 then it will add the 1 in the result otherwise will add 0 in the result\n",
    "print(result)\n",
    "print(a&b)\n",
    "# OR -> |\n",
    "# -> Compare each bit  Compare the eah bit of the operand if either of the bit is 1 it will set the bit to the 1 in the result otherwise it will add 0 in the bit\n",
    "a=10\n",
    "b=4\n",
    "result = a|b\n",
    "print(a|b)\n",
    "# Decimal to Binary\n",
    "binary = bin(14)\n",
    "print(binary)"
   ]
  },
  {
   "cell_type": "code",
   "execution_count": 23,
   "metadata": {},
   "outputs": [
    {
     "name": "stdout",
     "output_type": "stream",
     "text": [
      "14\n"
     ]
    }
   ],
   "source": [
    "#Not ->~\n",
    "#XOR\n",
    "# ^ Compares each bit of the 1st operand with the 2nd one \n",
    "# -> If one bit is 1 not the both bit then the result will set to 1 otherwise it will be 0\n",
    "a=10 # 1010\n",
    "b=4 # 0100\n",
    "result=a^b\n",
    "print(result)\n"
   ]
  },
  {
   "cell_type": "code",
   "execution_count": 24,
   "metadata": {},
   "outputs": [
    {
     "name": "stdout",
     "output_type": "stream",
     "text": [
      "2\n",
      "40\n"
     ]
    }
   ],
   "source": [
    "# Right Shift\n",
    "a=10 #1010\n",
    "result = a>>2\n",
    "print(result)\n",
    "# Left Shift\n",
    "a=10\n",
    "result = a<<2\n",
    "print(result)\n"
   ]
  },
  {
   "cell_type": "code",
   "execution_count": 25,
   "metadata": {},
   "outputs": [
    {
     "name": "stdout",
     "output_type": "stream",
     "text": [
      "Welcome to : \n"
     ]
    }
   ],
   "source": [
    "# Taking the input from the user\n",
    "name = input(\"Enter the name:\")\n",
    "print(\"Welcome to :\",name)\n",
    "rn = input(\"\")"
   ]
  },
  {
   "cell_type": "code",
   "execution_count": 26,
   "metadata": {},
   "outputs": [
    {
     "name": "stdout",
     "output_type": "stream",
     "text": [
      "Welcome to : \n"
     ]
    }
   ],
   "source": [
    "rn = input(\"Roll No:\")\n",
    "print(\"Welcome to :\",rn)"
   ]
  },
  {
   "cell_type": "code",
   "execution_count": 27,
   "metadata": {},
   "outputs": [
    {
     "name": "stdout",
     "output_type": "stream",
     "text": [
      "8\n"
     ]
    }
   ],
   "source": [
    "# Assignment Operator\n",
    "a=5\n",
    "a+=3 # a=a+3\n",
    "print(a)"
   ]
  },
  {
   "cell_type": "code",
   "execution_count": 28,
   "metadata": {},
   "outputs": [
    {
     "name": "stdout",
     "output_type": "stream",
     "text": [
      "2\n"
     ]
    }
   ],
   "source": [
    "# Subtracton\n",
    "a=5\n",
    "a-=3 # a=a-3\n",
    "print(a)"
   ]
  },
  {
   "cell_type": "code",
   "execution_count": 29,
   "metadata": {},
   "outputs": [
    {
     "name": "stdout",
     "output_type": "stream",
     "text": [
      "15\n"
     ]
    }
   ],
   "source": [
    "# Multiplication\n",
    "a=5\n",
    "a*=3 # a=a*3\n",
    "print(a)\n"
   ]
  },
  {
   "cell_type": "code",
   "execution_count": 30,
   "metadata": {},
   "outputs": [
    {
     "name": "stdout",
     "output_type": "stream",
     "text": [
      "5.0\n"
     ]
    }
   ],
   "source": [
    "# Division\n",
    "a=15\n",
    "a/=3 # a=a/3\n",
    "print(a)"
   ]
  },
  {
   "cell_type": "code",
   "execution_count": 31,
   "metadata": {},
   "outputs": [
    {
     "name": "stdout",
     "output_type": "stream",
     "text": [
      "You can drive\n"
     ]
    }
   ],
   "source": [
    "# If Statement\n",
    "age=20\n",
    "if age>=18 :\n",
    "    print(\"You can drive\")\n"
   ]
  },
  {
   "cell_type": "code",
   "execution_count": 32,
   "metadata": {},
   "outputs": [
    {
     "name": "stdout",
     "output_type": "stream",
     "text": [
      "You cannot drive\n"
     ]
    }
   ],
   "source": [
    "age=16\n",
    "if age>=18 :\n",
    "    print(\"You can drive\")\n",
    "else :\n",
    "    print(\"You cannot drive\")"
   ]
  },
  {
   "cell_type": "code",
   "execution_count": 33,
   "metadata": {},
   "outputs": [
    {
     "name": "stdout",
     "output_type": "stream",
     "text": [
      "Excellent performance, your grade is A+\n"
     ]
    }
   ],
   "source": [
    "score=99\n",
    "if score>=90:\n",
    "    print(\"Excellent performance, your grade is A+\")\n",
    "elif score>80:\n",
    "    print(\"Good performance, your grade is A\")\n",
    "elif score>=70:\n",
    "    print(\"Average performance, your grade is B\")\n",
    "else:\n",
    "    print(\"Performance not good,your grade is C\")"
   ]
  },
  {
   "cell_type": "code",
   "execution_count": 34,
   "metadata": {},
   "outputs": [
    {
     "name": "stdout",
     "output_type": "stream",
     "text": [
      "Largest number is : 30\n"
     ]
    }
   ],
   "source": [
    "# Find the largest number within the three number\n",
    "num1=10\n",
    "num2=20\n",
    "num3=30\n",
    "if (num1>=num2 and num1>=num3):\n",
    "    largest=num1\n",
    "elif (num2>=num1 and num2>=num3):\n",
    "    largest=num2\n",
    "else:\n",
    "    largest=num3\n",
    "print(\"Largest number is :\",largest)\n",
    "\n"
   ]
  },
  {
   "cell_type": "code",
   "execution_count": null,
   "metadata": {},
   "outputs": [],
   "source": []
  }
 ],
 "metadata": {
  "kernelspec": {
   "display_name": "Python 3",
   "language": "python",
   "name": "python3"
  },
  "language_info": {
   "codemirror_mode": {
    "name": "ipython",
    "version": 3
   },
   "file_extension": ".py",
   "mimetype": "text/x-python",
   "name": "python",
   "nbconvert_exporter": "python",
   "pygments_lexer": "ipython3",
   "version": "3.11.4"
  },
  "orig_nbformat": 4
 },
 "nbformat": 4,
 "nbformat_minor": 2
}
