{
 "cells": [
  {
   "cell_type": "code",
   "execution_count": 1,
   "metadata": {},
   "outputs": [],
   "source": [
    "# Code Issue\n",
    "# Division/0-> Run-Time Error"
   ]
  },
  {
   "cell_type": "code",
   "execution_count": 3,
   "metadata": {},
   "outputs": [
    {
     "name": "stdout",
     "output_type": "stream",
     "text": [
      "There is no x\n"
     ]
    }
   ],
   "source": [
    "# Try-> All of the code is written in the try block\n",
    "# Except-> How to handle that exception or what to print there is written in except block\n",
    "# On priting alone x some error is coming in the code but if we that there is no error is coming then we can use try-catch block\n",
    "# print(x)\n",
    "\n",
    "# Using try-catch block\n",
    " \n",
    "try :\n",
    "    print(x)\n",
    "except :\n",
    "    print(\"There is no x\") # Here try will throw  error so if we want that our code will work smoothly we are using except block in the code\n"
   ]
  },
  {
   "cell_type": "code",
   "execution_count": 5,
   "metadata": {},
   "outputs": [
    {
     "name": "stdout",
     "output_type": "stream",
     "text": [
      "10\n",
      "No error\n"
     ]
    }
   ],
   "source": [
    "# Here there is no error so except block will not run\n",
    "try :\n",
    "    x=10\n",
    "    print(x)\n",
    "except :\n",
    "    print(\"x is not defined\")\n",
    "else :\n",
    "    print(\"No error\") \n"
   ]
  },
  {
   "cell_type": "code",
   "execution_count": 1,
   "metadata": {},
   "outputs": [
    {
     "name": "stdout",
     "output_type": "stream",
     "text": [
      "x is not defined\n"
     ]
    }
   ],
   "source": [
    "# Here there is error x is not defined so only except block will run no else part will run\n",
    "try:\n",
    "    print(x)\n",
    "except:\n",
    "    print(\"x is not defined\")\n",
    "else :\n",
    "    print(\"No error\")"
   ]
  },
  {
   "cell_type": "code",
   "execution_count": 3,
   "metadata": {},
   "outputs": [
    {
     "name": "stdout",
     "output_type": "stream",
     "text": [
      "x is not defined\n",
      "Try and except are executed\n"
     ]
    }
   ],
   "source": [
    "# In these code finally block will always run if there is error or not \n",
    "try:\n",
    "    print(x)\n",
    "except:\n",
    "    print(\"x is not defined\")\n",
    "finally:\n",
    "    print(\"Try and except are executed\")\n"
   ]
  },
  {
   "cell_type": "code",
   "execution_count": 4,
   "metadata": {},
   "outputs": [
    {
     "name": "stdout",
     "output_type": "stream",
     "text": [
      "10\n",
      "Try and except are executed\n"
     ]
    }
   ],
   "source": [
    "# Here the code which is written in the try blcok is running smoothly so except block will not run but finally block will run\n",
    "try:\n",
    "    x=10\n",
    "    print(x)\n",
    "except:\n",
    "    print(\"x is not defined\")\n",
    "finally:\n",
    "    print(\"Try and except are executed\")"
   ]
  },
  {
   "cell_type": "code",
   "execution_count": 5,
   "metadata": {},
   "outputs": [
    {
     "ename": "Exception",
     "evalue": "There is a issue....X is below 20",
     "output_type": "error",
     "traceback": [
      "\u001b[1;31m---------------------------------------------------------------------------\u001b[0m",
      "\u001b[1;31mException\u001b[0m                                 Traceback (most recent call last)",
      "Cell \u001b[1;32mIn[5], line 4\u001b[0m\n\u001b[0;32m      2\u001b[0m x\u001b[39m=\u001b[39m\u001b[39m10\u001b[39m\n\u001b[0;32m      3\u001b[0m \u001b[39mif\u001b[39;00m (x\u001b[39m<\u001b[39m\u001b[39m20\u001b[39m) :\n\u001b[1;32m----> 4\u001b[0m     \u001b[39mraise\u001b[39;00m \u001b[39mException\u001b[39;00m(\u001b[39m\"\u001b[39m\u001b[39mThere is a issue....X is below 20\u001b[39m\u001b[39m\"\u001b[39m)\n",
      "\u001b[1;31mException\u001b[0m: There is a issue....X is below 20"
     ]
    }
   ],
   "source": [
    "# Raising the exception by using the raise keyword\n",
    "# Code will show the exception of you choice\n",
    "x=10\n",
    "if (x<20) :\n",
    "    raise Exception(\"There is a issue....X is below 20\")\n"
   ]
  },
  {
   "cell_type": "code",
   "execution_count": 8,
   "metadata": {},
   "outputs": [
    {
     "ename": "ZeroDivisionError",
     "evalue": "division by zero",
     "output_type": "error",
     "traceback": [
      "\u001b[1;31m---------------------------------------------------------------------------\u001b[0m",
      "\u001b[1;31mZeroDivisionError\u001b[0m                         Traceback (most recent call last)",
      "Cell \u001b[1;32mIn[8], line 3\u001b[0m\n\u001b[0;32m      1\u001b[0m n \u001b[39m=\u001b[39m \u001b[39mint\u001b[39m(\u001b[39minput\u001b[39m(\u001b[39m\"\u001b[39m\u001b[39mEnter the num1: \u001b[39m\u001b[39m\"\u001b[39m))\n\u001b[0;32m      2\u001b[0m d \u001b[39m=\u001b[39m \u001b[39mint\u001b[39m(\u001b[39minput\u001b[39m(\u001b[39m\"\u001b[39m\u001b[39mEnter the num2: \u001b[39m\u001b[39m\"\u001b[39m))\n\u001b[1;32m----> 3\u001b[0m result \u001b[39m=\u001b[39m n\u001b[39m/\u001b[39;49md\n\u001b[0;32m      4\u001b[0m \u001b[39mprint\u001b[39m(\u001b[39m\"\u001b[39m\u001b[39mResults\u001b[39m\u001b[39m\"\u001b[39m, result)\n",
      "\u001b[1;31mZeroDivisionError\u001b[0m: division by zero"
     ]
    }
   ],
   "source": [
    "n = int(input(\"Enter the num1: \"))\n",
    "d = int(input(\"Enter the num2: \"))\n",
    "result = n/d\n",
    "print(\"Results\", result)\n",
    "# If we divide iby zero it will throw \"ZeroDivisionError\""
   ]
  },
  {
   "cell_type": "code",
   "execution_count": 10,
   "metadata": {},
   "outputs": [
    {
     "name": "stdout",
     "output_type": "stream",
     "text": [
      "You er dividing by zero\n"
     ]
    }
   ],
   "source": [
    "# Now we will use try-except block\n",
    "try:\n",
    "    n = int(input(\"Enter num1\"))\n",
    "    d = int(input(\"Enter nun2\"))\n",
    "    result = (n/d)\n",
    "    print(\"Result\",result)\n",
    "except:\n",
    "    print(\"You are dividing by zero\")"
   ]
  },
  {
   "cell_type": "code",
   "execution_count": null,
   "metadata": {},
   "outputs": [],
   "source": []
  }
 ],
 "metadata": {
  "kernelspec": {
   "display_name": "Python 3",
   "language": "python",
   "name": "python3"
  },
  "language_info": {
   "codemirror_mode": {
    "name": "ipython",
    "version": 3
   },
   "file_extension": ".py",
   "mimetype": "text/x-python",
   "name": "python",
   "nbconvert_exporter": "python",
   "pygments_lexer": "ipython3",
   "version": "3.11.0"
  },
  "orig_nbformat": 4
 },
 "nbformat": 4,
 "nbformat_minor": 2
}
