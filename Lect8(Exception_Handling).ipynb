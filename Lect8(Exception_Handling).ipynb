{
 "cells": [
  {
   "cell_type": "code",
   "execution_count": 1,
   "metadata": {},
   "outputs": [],
   "source": [
    "# Code Issue\n",
    "# Division/0-> Run-Time Error"
   ]
  },
  {
   "cell_type": "code",
   "execution_count": 3,
   "metadata": {},
   "outputs": [
    {
     "name": "stdout",
     "output_type": "stream",
     "text": [
      "There is no x\n"
     ]
    }
   ],
   "source": [
    "# Try-> All of the code is written in the try block\n",
    "# Except-> How to handle that exception or what to print if the code which is written in the try block is giving error then what to do is written in try block\n",
    "# On priting alone x some error is coming in the code but if we that there is no error is coming then we can use try-catch block\n",
    "# print(x)\n",
    "\n",
    "# Using try-catch block\n",
    " \n",
    "try :\n",
    "    print(x)\n",
    "except :\n",
    "    print(\"There is no x\") # Here try will throw  error so if we want that our code will work smoothly we are using except block in the code\n"
   ]
  },
  {
   "cell_type": "code",
   "execution_count": 5,
   "metadata": {},
   "outputs": [
    {
     "name": "stdout",
     "output_type": "stream",
     "text": [
      "10\n",
      "No error\n"
     ]
    }
   ],
   "source": [
    "# Here there is no error so except block will not run\n",
    "try :\n",
    "    x=10\n",
    "    print(x)\n",
    "except :\n",
    "    print(\"x is not defined\")\n",
    "else :\n",
    "    print(\"No error\") \n"
   ]
  },
  {
   "cell_type": "code",
   "execution_count": 1,
   "metadata": {},
   "outputs": [
    {
     "name": "stdout",
     "output_type": "stream",
     "text": [
      "x is not defined\n"
     ]
    }
   ],
   "source": [
    "# Here there is error x is not defined so only except block will run no else part will run\n",
    "try:\n",
    "    print(x)\n",
    "except:\n",
    "    print(\"x is not defined\")\n",
    "else :\n",
    "    print(\"No error\")"
   ]
  },
  {
   "cell_type": "code",
   "execution_count": 3,
   "metadata": {},
   "outputs": [
    {
     "name": "stdout",
     "output_type": "stream",
     "text": [
      "x is not defined\n",
      "Try and except are executed\n"
     ]
    }
   ],
   "source": [
    "# In these code finally block will always run if there is error or not \n",
    "try:\n",
    "    print(x)\n",
    "except:\n",
    "    print(\"x is not defined\")\n",
    "finally:\n",
    "    print(\"Try and except are executed\")\n"
   ]
  },
  {
   "cell_type": "code",
   "execution_count": 4,
   "metadata": {},
   "outputs": [
    {
     "name": "stdout",
     "output_type": "stream",
     "text": [
      "10\n",
      "Try and except are executed\n"
     ]
    }
   ],
   "source": [
    "# Here the code which is written in the try blcok is running smoothly so except block will not run but finally block will run\n",
    "try:\n",
    "    x=10\n",
    "    print(x)\n",
    "except:\n",
    "    print(\"x is not defined\")\n",
    "finally:\n",
    "    print(\"Try and except are executed\")"
   ]
  },
  {
   "cell_type": "code",
   "execution_count": 5,
   "metadata": {},
   "outputs": [
    {
     "ename": "Exception",
     "evalue": "There is a issue....X is below 20",
     "output_type": "error",
     "traceback": [
      "\u001b[1;31m---------------------------------------------------------------------------\u001b[0m",
      "\u001b[1;31mException\u001b[0m                                 Traceback (most recent call last)",
      "Cell \u001b[1;32mIn[5], line 4\u001b[0m\n\u001b[0;32m      2\u001b[0m x\u001b[39m=\u001b[39m\u001b[39m10\u001b[39m\n\u001b[0;32m      3\u001b[0m \u001b[39mif\u001b[39;00m (x\u001b[39m<\u001b[39m\u001b[39m20\u001b[39m) :\n\u001b[1;32m----> 4\u001b[0m     \u001b[39mraise\u001b[39;00m \u001b[39mException\u001b[39;00m(\u001b[39m\"\u001b[39m\u001b[39mThere is a issue....X is below 20\u001b[39m\u001b[39m\"\u001b[39m)\n",
      "\u001b[1;31mException\u001b[0m: There is a issue....X is below 20"
     ]
    }
   ],
   "source": [
    "# Raising the exception by using the raise keyword\n",
    "# Code will show the exception of you choice\n",
    "x=10\n",
    "if (x<20) :\n",
    "    raise Exception(\"There is a issue....X is below 20\")\n"
   ]
  },
  {
   "cell_type": "code",
   "execution_count": 8,
   "metadata": {},
   "outputs": [
    {
     "ename": "ZeroDivisionError",
     "evalue": "division by zero",
     "output_type": "error",
     "traceback": [
      "\u001b[1;31m---------------------------------------------------------------------------\u001b[0m",
      "\u001b[1;31mZeroDivisionError\u001b[0m                         Traceback (most recent call last)",
      "Cell \u001b[1;32mIn[8], line 3\u001b[0m\n\u001b[0;32m      1\u001b[0m n \u001b[39m=\u001b[39m \u001b[39mint\u001b[39m(\u001b[39minput\u001b[39m(\u001b[39m\"\u001b[39m\u001b[39mEnter the num1: \u001b[39m\u001b[39m\"\u001b[39m))\n\u001b[0;32m      2\u001b[0m d \u001b[39m=\u001b[39m \u001b[39mint\u001b[39m(\u001b[39minput\u001b[39m(\u001b[39m\"\u001b[39m\u001b[39mEnter the num2: \u001b[39m\u001b[39m\"\u001b[39m))\n\u001b[1;32m----> 3\u001b[0m result \u001b[39m=\u001b[39m n\u001b[39m/\u001b[39;49md\n\u001b[0;32m      4\u001b[0m \u001b[39mprint\u001b[39m(\u001b[39m\"\u001b[39m\u001b[39mResults\u001b[39m\u001b[39m\"\u001b[39m, result)\n",
      "\u001b[1;31mZeroDivisionError\u001b[0m: division by zero"
     ]
    }
   ],
   "source": [
    "n = int(input(\"Enter the num1: \"))\n",
    "d = int(input(\"Enter the num2: \"))\n",
    "result = n/d\n",
    "print(\"Results\", result)\n",
    "# If we divide iby zero it will throw \"ZeroDivisionError\""
   ]
  },
  {
   "cell_type": "code",
   "execution_count": 2,
   "metadata": {},
   "outputs": [
    {
     "name": "stdout",
     "output_type": "stream",
     "text": [
      "You are dividing by zero\n"
     ]
    }
   ],
   "source": [
    "# Now we will use try-except block\n",
    "try:\n",
    "    n = int(input(\"Enter num1\"))\n",
    "    d = int(input(\"Enter nun2\"))\n",
    "    result = (n/d)\n",
    "    print(\"Result\",result)\n",
    "except:\n",
    "    print(\"You are dividing by zero\")"
   ]
  },
  {
   "cell_type": "code",
   "execution_count": 4,
   "metadata": {},
   "outputs": [
    {
     "name": "stdout",
     "output_type": "stream",
     "text": [
      "Result 0.8\n"
     ]
    }
   ],
   "source": [
    "# Here these will catch the specific exception zeo division error\n",
    "try:\n",
    "    n = int(input(\"Enter num1\"))\n",
    "    d = int(input(\"Enter nun2\"))\n",
    "    result = (n/d)\n",
    "    print(\"Result\",result)\n",
    "except ZeroDivisionError:\n",
    "    print(\"You are dividing by zero\")\n"
   ]
  },
  {
   "cell_type": "code",
   "execution_count": 5,
   "metadata": {},
   "outputs": [
    {
     "name": "stdout",
     "output_type": "stream",
     "text": [
      "It's integer but you are enter the float\n"
     ]
    }
   ],
   "source": [
    "# Exception-> Value error\n",
    "try:\n",
    "    n = int(input(\"Enter num1\"))\n",
    "    d = int(input(\"Enter nun2\"))\n",
    "    result = (n/d)\n",
    "    print(\"Result\",result)\n",
    "except ValueError:\n",
    "    print(\"It's integer but you are enter the float\")\n",
    "\n",
    "    "
   ]
  },
  {
   "cell_type": "code",
   "execution_count": 9,
   "metadata": {},
   "outputs": [
    {
     "name": "stdout",
     "output_type": "stream",
     "text": [
      "It's integer but you are enter the float\n"
     ]
    }
   ],
   "source": [
    "# Here we are using more than one except block\n",
    "try:\n",
    "    n = int(input(\"Enter num1\"))\n",
    "    d = int(input(\"Enter nun2\"))\n",
    "    result = (n/d)\n",
    "    print(\"Result\",result)\n",
    "except ZeroDivisionError :\n",
    "    print(\"You are dividing by zero\") \n",
    "\n",
    "except ValueError:\n",
    "    print(\"It's integer but you are enter the float\")\n"
   ]
  },
  {
   "cell_type": "code",
   "execution_count": 18,
   "metadata": {},
   "outputs": [
    {
     "name": "stdout",
     "output_type": "stream",
     "text": [
      "Data type mismatched error\n"
     ]
    }
   ],
   "source": [
    "# Type Error\n",
    "try:\n",
    "    x=\"10\"\n",
    "    y=20\n",
    "    z=x+y\n",
    "    print(x)\n",
    "except TypeError :\n",
    "    print(\"Data type mismatched error\")"
   ]
  },
  {
   "cell_type": "code",
   "execution_count": 16,
   "metadata": {},
   "outputs": [
    {
     "name": "stdout",
     "output_type": "stream",
     "text": [
      "Index out of range of the list\n"
     ]
    }
   ],
   "source": [
    "# Index Error\n",
    "try :\n",
    "    list1=[1,2,3,4]\n",
    "    print(list1[4])\n",
    "except IndexError:\n",
    "    print(\"Index out of range of the list\")"
   ]
  },
  {
   "cell_type": "code",
   "execution_count": 1,
   "metadata": {},
   "outputs": [
    {
     "name": "stdout",
     "output_type": "stream",
     "text": [
      "Key not found error\n"
     ]
    }
   ],
   "source": [
    "# Key Error\n",
    "try:\n",
    "    my_dictionary = {\"name\":\"Alice\",\"age\":22}\n",
    "    print(my_dictionary[\"city\"])\n",
    "except KeyError:\n",
    "    print(\"Key not found error\")"
   ]
  },
  {
   "cell_type": "code",
   "execution_count": 4,
   "metadata": {},
   "outputs": [
    {
     "name": "stdout",
     "output_type": "stream",
     "text": [
      "File you are looking for is not there\n"
     ]
    }
   ],
   "source": [
    "# File not found error\n",
    "try:\n",
    "    file_location=\"my_file.txt\"\n",
    "    with open(file_location,\"r\") as file :\n",
    "        contents = file.read()\n",
    "except FileNotFoundError :\n",
    "    print(\"File you are looking for is not there\")\n",
    "    "
   ]
  },
  {
   "cell_type": "code",
   "execution_count": 7,
   "metadata": {},
   "outputs": [
    {
     "name": "stdout",
     "output_type": "stream",
     "text": [
      "f unable to write these file '{file_location}'.\n"
     ]
    }
   ],
   "source": [
    "try:\n",
    "    file_location=\"file2.txt\"\n",
    "    with open(file_location,\"w\") as file :\n",
    "        contents = file.read()\n",
    "except IOError :\n",
    "    print(\"f unable to write these file '{file_location}'.\")"
   ]
  },
  {
   "cell_type": "code",
   "execution_count": 13,
   "metadata": {},
   "outputs": [
    {
     "name": "stdout",
     "output_type": "stream",
     "text": [
      "Particular library is missing\n",
      "It will run try will run or not\n"
     ]
    }
   ],
   "source": [
    "# Import Error\n",
    "try :\n",
    "    import library12345\n",
    "except ImportError :\n",
    "    print(\"Particular library is missing\")\n",
    "\n"
   ]
  },
  {
   "cell_type": "code",
   "execution_count": 16,
   "metadata": {},
   "outputs": [
    {
     "name": "stdout",
     "output_type": "stream",
     "text": [
      "Insufficent memory for the list\n"
     ]
    }
   ],
   "source": [
    "# Memory Error\n",
    "try :\n",
    "    big_list=[1]*(10**12)  # List contains is = 10^12\n",
    "except MemoryError :\n",
    "    print(\"Insufficent memory for the list\")\n",
    "\n",
    "\n"
   ]
  },
  {
   "cell_type": "code",
   "execution_count": 18,
   "metadata": {},
   "outputs": [
    {
     "name": "stdout",
     "output_type": "stream",
     "text": [
      "9765625000000000000000000000000000000\n"
     ]
    }
   ],
   "source": [
    "# Overflow Error\n",
    "try :\n",
    "    result = 5000**10\n",
    "except OverflowError:\n",
    "    print(\"Too big calculation here\")\n",
    "else :\n",
    "    print(result)"
   ]
  },
  {
   "cell_type": "code",
   "execution_count": null,
   "metadata": {},
   "outputs": [],
   "source": []
  }
 ],
 "metadata": {
  "kernelspec": {
   "display_name": "Python 3",
   "language": "python",
   "name": "python3"
  },
  "language_info": {
   "codemirror_mode": {
    "name": "ipython",
    "version": 3
   },
   "file_extension": ".py",
   "mimetype": "text/x-python",
   "name": "python",
   "nbconvert_exporter": "python",
   "pygments_lexer": "ipython3",
   "version": "3.11.0"
  },
  "orig_nbformat": 4
 },
 "nbformat": 4,
 "nbformat_minor": 2
}
