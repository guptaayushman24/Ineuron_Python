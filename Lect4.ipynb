{
 "cells": [
  {
   "cell_type": "code",
   "execution_count": 4,
   "metadata": {},
   "outputs": [
    {
     "ename": "ValueError",
     "evalue": "could not convert string to float: ''",
     "output_type": "error",
     "traceback": [
      "\u001b[1;31m---------------------------------------------------------------------------\u001b[0m",
      "\u001b[1;31mValueError\u001b[0m                                Traceback (most recent call last)",
      "Cell \u001b[1;32mIn[4], line 3\u001b[0m\n\u001b[0;32m      1\u001b[0m \u001b[39m# Find the largest number within the three number\u001b[39;00m\n\u001b[0;32m      2\u001b[0m num1\u001b[39m=\u001b[39m\u001b[39mfloat\u001b[39m(\u001b[39minput\u001b[39m(\u001b[39m\"\u001b[39m\u001b[39mPlease enter first number\u001b[39m\u001b[39m\"\u001b[39m))\n\u001b[1;32m----> 3\u001b[0m num2\u001b[39m=\u001b[39m\u001b[39mfloat\u001b[39;49m(\u001b[39minput\u001b[39;49m(\u001b[39m\"\u001b[39;49m\u001b[39mPlease enter second number\u001b[39;49m\u001b[39m\"\u001b[39;49m))\n\u001b[0;32m      4\u001b[0m num3\u001b[39m=\u001b[39m\u001b[39mfloat\u001b[39m(\u001b[39minput\u001b[39m(\u001b[39m\"\u001b[39m\u001b[39mPlease enter third number\u001b[39m\u001b[39m\"\u001b[39m))\n\u001b[0;32m      5\u001b[0m \u001b[39mif\u001b[39;00m (num1\u001b[39m>\u001b[39m\u001b[39m=\u001b[39mnum2 \u001b[39mand\u001b[39;00m num1\u001b[39m>\u001b[39m\u001b[39m=\u001b[39mnum3):\n",
      "\u001b[1;31mValueError\u001b[0m: could not convert string to float: ''"
     ]
    }
   ],
   "source": [
    "# Find the largest number within the three number\n",
    "num1=float(input(\"Please enter first number\"))\n",
    "num2=float(input(\"Please enter second number\"))\n",
    "num3=float(input(\"Please enter third number\"))\n",
    "if (num1>=num2 and num1>=num3):\n",
    "    largest=num1\n",
    "elif (num2>=num1 and num2>=num3):\n",
    "    largest=num2\n",
    "else:\n",
    "    largest=num3\n",
    "print(\"Largest number is :\",largest)"
   ]
  },
  {
   "cell_type": "code",
   "execution_count": null,
   "metadata": {},
   "outputs": [
    {
     "name": "stdout",
     "output_type": "stream",
     "text": [
      "8 / 5 = 1.6\n"
     ]
    }
   ],
   "source": [
    "operator = input(\"Enter the operator to be performed\")\n",
    "a=int(input())\n",
    "b=int(input())\n",
    "if (operator=='+') :\n",
    "    print(a, \"+\", b,\"=\",a+b)\n",
    "elif (operator=='-') :\n",
    "    print(a, \"+\", b,\"=\",a-b)\n",
    "elif (operator=='*') :\n",
    "    print(a, \"+\", b,\"=\",a*b)\n",
    "elif (operator=='/') :\n",
    "    print(a, \"/\", b,\"=\",a/b)\n",
    "else :\n",
    "    print(\"Wrong operator\")\n"
   ]
  },
  {
   "cell_type": "code",
   "execution_count": null,
   "metadata": {},
   "outputs": [
    {
     "name": "stdout",
     "output_type": "stream",
     "text": [
      "Salary of Senior Manager is from 120000 to 160000\n"
     ]
    }
   ],
   "source": [
    "Designation = input(\"Enter the designation of the employee\")\n",
    "Designation=Designation.lower() # Convert to lower case to the smaller case\n",
    "if (Designation=='executive') :\n",
    "    print(\"Salary of Executive is from 30000 to 40000\")\n",
    "elif (Designation=='manager') :\n",
    "    print(\"Salary of Manager is from 60000 to 90000\")\n",
    "elif (Designation=='senior manager') :\n",
    "    print(\"Salary of Senior Manager is from 120000 to 160000\")\n",
    "else :\n",
    "    print(\"Please enter the correct designation\")"
   ]
  },
  {
   "cell_type": "code",
   "execution_count": null,
   "metadata": {},
   "outputs": [
    {
     "name": "stdout",
     "output_type": "stream",
     "text": [
      "0\n",
      "1\n",
      "2\n",
      "3\n",
      "4\n"
     ]
    }
   ],
   "source": [
    "# For loop\n",
    "for i in range (5) :  # range-> generating sequence of numbers\n",
    "    print(i)  # Here it is by defult starting with 0\n",
    " "
   ]
  },
  {
   "cell_type": "code",
   "execution_count": null,
   "metadata": {},
   "outputs": [
    {
     "name": "stdout",
     "output_type": "stream",
     "text": [
      "2\n",
      "3\n",
      "4\n"
     ]
    }
   ],
   "source": [
    "for i in range (2,5) : # Here we are starting with 2\n",
    "    print(i)"
   ]
  },
  {
   "cell_type": "code",
   "execution_count": null,
   "metadata": {},
   "outputs": [
    {
     "name": "stdout",
     "output_type": "stream",
     "text": [
      "0\n",
      "2\n",
      "4\n",
      "6\n",
      "8\n"
     ]
    }
   ],
   "source": [
    "for i in range (0,10,2) : # range (start,stop,step)\n",
    "    print(i)"
   ]
  },
  {
   "cell_type": "code",
   "execution_count": null,
   "metadata": {},
   "outputs": [
    {
     "name": "stdout",
     "output_type": "stream",
     "text": [
      "0\n",
      "2\n",
      "4\n",
      "6\n",
      "8\n",
      "10\n",
      "12\n",
      "14\n",
      "16\n",
      "18\n"
     ]
    }
   ],
   "source": [
    "for i in range (0,20,2) :\n",
    "    print(i)"
   ]
  },
  {
   "cell_type": "code",
   "execution_count": null,
   "metadata": {},
   "outputs": [
    {
     "name": "stdout",
     "output_type": "stream",
     "text": [
      "apple\n",
      "cherry\n",
      "banaba\n",
      "grapes\n"
     ]
    }
   ],
   "source": [
    "# Let us have a for loop on the list part\n",
    "flist=[\"apple\",\"cherry\",\"banaba\",\"grapes\"]\n",
    "for fruit in flist:\n",
    "    print(fruit)\n",
    "    "
   ]
  },
  {
   "cell_type": "code",
   "execution_count": null,
   "metadata": {},
   "outputs": [
    {
     "name": "stdout",
     "output_type": "stream",
     "text": [
      "India\n",
      "UK\n",
      "USA\n",
      "Germany\n"
     ]
    }
   ],
   "source": [
    "country=[\"India\",\"UK\",\"USA\",\"Germany\"]\n",
    "for ct in country :\n",
    "    print(ct)"
   ]
  },
  {
   "cell_type": "code",
   "execution_count": null,
   "metadata": {},
   "outputs": [
    {
     "name": "stdout",
     "output_type": "stream",
     "text": [
      "India\n",
      "UK\n",
      "USA\n",
      "Germany\n"
     ]
    }
   ],
   "source": [
    "country=[\"India\",\"UK\",\"USA\",\"Germany\"]\n",
    "for i in range (0,len(country)) :\n",
    "    print(country[i])"
   ]
  },
  {
   "cell_type": "code",
   "execution_count": null,
   "metadata": {},
   "outputs": [
    {
     "name": "stdout",
     "output_type": "stream",
     "text": [
      "* \n",
      "* * \n",
      "* * * \n",
      "* * * * \n",
      "* * * * * \n"
     ]
    }
   ],
   "source": [
    "# Pattern\n",
    "# *\n",
    "# * * \n",
    "# * * * \n",
    "# * *  * *\n",
    "# * *  * * *\n",
    "rows=5\n",
    "for i in range (rows):\n",
    "    for j in range (i+1) :\n",
    "        print(\"*\",end=\" \")\n",
    "    print()"
   ]
  },
  {
   "cell_type": "code",
   "execution_count": null,
   "metadata": {},
   "outputs": [
    {
     "name": "stdout",
     "output_type": "stream",
     "text": [
      "1\n",
      "2\n",
      "3\n",
      "4\n",
      "5\n"
     ]
    }
   ],
   "source": [
    "# While loop\n",
    "count=1\n",
    "while count<=5:\n",
    "    print(count)\n",
    "    count+=1\n"
   ]
  },
  {
   "cell_type": "code",
   "execution_count": null,
   "metadata": {},
   "outputs": [
    {
     "name": "stdout",
     "output_type": "stream",
     "text": [
      "You enetered: Happy\n",
      "You enetered: Sunday\n",
      "You enetered: Today is Saturday\n",
      "You enetered: Hello\n",
      "You enetered: Byee\n",
      "You enetered: quit\n"
     ]
    }
   ],
   "source": [
    "text = \"\"\n",
    "while text!=\"quit\":\n",
    "    text=input(\"Enter a word (or quit to exit):\")\n",
    "    print(\"You enetered:\", text)"
   ]
  },
  {
   "cell_type": "code",
   "execution_count": null,
   "metadata": {},
   "outputs": [
    {
     "name": "stdout",
     "output_type": "stream",
     "text": [
      "[30000, 40000, 45000, 42000.0]\n"
     ]
    }
   ],
   "source": [
    "nm = [\"Alice\",\"Tom\",\"Harry\",\"James\"]\n",
    "salary=[30000,40000,45000,40000]\n",
    "for i in range (0,len(nm)) :\n",
    "    if (nm[i]==\"James\") :\n",
    "        salary[i] = salary[i]+salary[i]*0.05;\n",
    "print(salary)"
   ]
  },
  {
   "cell_type": "code",
   "execution_count": null,
   "metadata": {},
   "outputs": [],
   "source": []
  }
 ],
 "metadata": {
  "kernelspec": {
   "display_name": "Python 3",
   "language": "python",
   "name": "python3"
  },
  "language_info": {
   "codemirror_mode": {
    "name": "ipython",
    "version": 3
   },
   "file_extension": ".py",
   "mimetype": "text/x-python",
   "name": "python",
   "nbconvert_exporter": "python",
   "pygments_lexer": "ipython3",
   "version": "3.11.0"
  },
  "orig_nbformat": 4
 },
 "nbformat": 4,
 "nbformat_minor": 2
}
