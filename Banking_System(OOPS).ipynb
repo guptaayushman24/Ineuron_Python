{
 "cells": [
  {
   "cell_type": "code",
   "execution_count": 11,
   "metadata": {},
   "outputs": [
    {
     "name": "stdout",
     "output_type": "stream",
     "text": [
      "Press 1 for the account detail\n",
      "Press 2 for the depositing the money\n",
      "Press 3 for withdrawing the money\n",
      "Press 4 for the seeing the account detail after all the transction\n",
      "Name of the account holder is Alice and the balance in the account is 1600\n"
     ]
    }
   ],
   "source": [
    "class Bank_Account :\n",
    "  def __init__(self,name,acc_no,balance) :\n",
    "    self.acc_no = acc_no\n",
    "    self.name = name\n",
    "    self.balance = balance\n",
    "\n",
    "  def account_detail(self) :\n",
    "    print(\"Name of the account holder is {} and the balance in the account is {}\".format(self.name,self.balance))\n",
    "\n",
    "  def deposit(self) :\n",
    "    amount_dep = int(input(\"Enter the amount to be deposited \"))\n",
    "    self.balance = self.balance+amount_dep\n",
    "    print(\"{} deposited {} Rs\".format(self.name,amount_dep))\n",
    "    print(\"{} balance after deposit {} Rs\".format(self.name,self.balance))\n",
    "  def withdraw(self) :\n",
    "    amount_with = int(input(\"Enter the amount to be withdraw \"))\n",
    "    if (amount_with>self.balance) :\n",
    "      print(\"Insufficent amount\")\n",
    "      \n",
    "    else :\n",
    "      self.balance = self.balance-amount_with\n",
    "      print(\"{} withdraw {} Rs\".format(self.name,amount_with))\n",
    "      print(\"{} Rs is the balance after withdraw\".format(self.balance))\n",
    "\n",
    "\n",
    "  def final_balance(self) :\n",
    "    print(\"{} your final amount is {} Rs after doing all tranaction\".format(self.name,self.balance))\n",
    "\n",
    "print(\"Press 1 for the account detail\")\n",
    "print(\"Press 2 for the depositing the money\")\n",
    "print(\"Press 3 for withdrawing the money\")\n",
    "print(\"Press 4 for the seeing the account detail after all the transction\")\n",
    "bankaccount1 = Bank_Account(\"Alice\",11212121,1600)\n",
    "while (True) :\n",
    "  option = input(\"Enter the number 1 or 2 or 3 or 4 for performing the operation and type exit if you want to end the operation \")\n",
    "  if (option==\"1\") :\n",
    "    bankaccount1.account_detail()\n",
    "\n",
    "  elif (option==\"2\") :\n",
    "    bankaccount1.deposit()\n",
    "\n",
    "  elif (option==\"3\") :\n",
    "    bankaccount1.withdraw()\n",
    "\n",
    "  elif (option==\"4\") :\n",
    "    bankaccount1.final_balance()\n",
    "  \n",
    "  elif option.lower()==\"exit\" :\n",
    "    break"
   ]
  },
  {
   "cell_type": "code",
   "execution_count": 9,
   "metadata": {},
   "outputs": [
    {
     "name": "stdout",
     "output_type": "stream",
     "text": [
      "Press 1 for the account detail\n",
      "Press 2 for depositing money\n",
      "Press 3 for withdrawing money\n",
      "Press 4 for seeing the account detail after all the transactions\n",
      "Name of the account holder is Alice and the balance in the account is 1600\n"
     ]
    },
    {
     "ename": "ValueError",
     "evalue": "invalid literal for int() with base 10: ''",
     "output_type": "error",
     "traceback": [
      "\u001b[1;31m---------------------------------------------------------------------------\u001b[0m",
      "\u001b[1;31mValueError\u001b[0m                                Traceback (most recent call last)",
      "Cell \u001b[1;32mIn[9], line 41\u001b[0m\n\u001b[0;32m     38\u001b[0m     bankaccount1\u001b[39m.\u001b[39maccount_detail()\n\u001b[0;32m     40\u001b[0m \u001b[39melif\u001b[39;00m option \u001b[39m==\u001b[39m \u001b[39m\"\u001b[39m\u001b[39m2\u001b[39m\u001b[39m\"\u001b[39m:\n\u001b[1;32m---> 41\u001b[0m     bankaccount1\u001b[39m.\u001b[39;49mdeposit()\n\u001b[0;32m     43\u001b[0m \u001b[39melif\u001b[39;00m option \u001b[39m==\u001b[39m \u001b[39m\"\u001b[39m\u001b[39m3\u001b[39m\u001b[39m\"\u001b[39m:\n\u001b[0;32m     44\u001b[0m     bankaccount1\u001b[39m.\u001b[39mwithdraw()\n",
      "Cell \u001b[1;32mIn[9], line 11\u001b[0m, in \u001b[0;36mBank_Account.deposit\u001b[1;34m(self)\u001b[0m\n\u001b[0;32m     10\u001b[0m \u001b[39mdef\u001b[39;00m \u001b[39mdeposit\u001b[39m(\u001b[39mself\u001b[39m):\n\u001b[1;32m---> 11\u001b[0m     amount_dep \u001b[39m=\u001b[39m \u001b[39mint\u001b[39;49m(\u001b[39minput\u001b[39;49m(\u001b[39m\"\u001b[39;49m\u001b[39mEnter the amount to be deposited: \u001b[39;49m\u001b[39m\"\u001b[39;49m))\n\u001b[0;32m     12\u001b[0m     \u001b[39mself\u001b[39m\u001b[39m.\u001b[39mbalance \u001b[39m+\u001b[39m\u001b[39m=\u001b[39m amount_dep\n\u001b[0;32m     13\u001b[0m     \u001b[39mprint\u001b[39m(\u001b[39m\"\u001b[39m\u001b[39m{}\u001b[39;00m\u001b[39m deposited \u001b[39m\u001b[39m{}\u001b[39;00m\u001b[39m Rs\u001b[39m\u001b[39m\"\u001b[39m\u001b[39m.\u001b[39mformat(\u001b[39mself\u001b[39m\u001b[39m.\u001b[39mname, amount_dep))\n",
      "\u001b[1;31mValueError\u001b[0m: invalid literal for int() with base 10: ''"
     ]
    }
   ],
   "source": [
    "class Bank_Account:\n",
    "    def __init__(self, name, acc_no, balance):\n",
    "        self.acc_no = acc_no\n",
    "        self.name = name\n",
    "        self.balance = balance\n",
    "\n",
    "    def account_detail(self):\n",
    "        print(\"Name of the account holder is {} and the balance in the account is {}\".format(self.name, self.balance))\n",
    "\n",
    "    def deposit(self):\n",
    "        amount_dep = int(input(\"Enter the amount to be deposited: \"))\n",
    "        self.balance += amount_dep\n",
    "        print(\"{} deposited {} Rs\".format(self.name, amount_dep))\n",
    "        print(\"{} balance after deposit {} Rs\".format(self.name, self.balance))\n",
    "\n",
    "    def withdraw(self):\n",
    "        amount_with = int(input(\"Enter the amount to be withdrawn: \"))\n",
    "        if amount_with > self.balance:\n",
    "            print(\"Insufficient amount\")\n",
    "        else:\n",
    "            self.balance -= amount_with\n",
    "            print(\"{} withdrew {} Rs\".format(self.name, amount_with))\n",
    "            print(\"{} Rs is the balance after withdraw\".format(self.balance))\n",
    "\n",
    "    def final_balance(self):\n",
    "        print(\"{} your final amount is {} Rs after doing all transactions\".format(self.name, self.balance))\n",
    "\n",
    "\n",
    "print(\"Press 1 for the account detail\")\n",
    "print(\"Press 2 for depositing money\")\n",
    "print(\"Press 3 for withdrawing money\")\n",
    "print(\"Press 4 for seeing the account detail after all the transactions\")\n",
    "\n",
    "bankaccount1 = Bank_Account(\"Alice\", 11212121, 1600)\n",
    "while True:\n",
    "        option = input(\"Enter the number 1 or 2 or 3 or 4 for performing the operation and type exit if you want to end the operation: \")\n",
    "        if option == \"1\":\n",
    "            bankaccount1.account_detail()\n",
    "\n",
    "        elif option == \"2\":\n",
    "            bankaccount1.deposit()\n",
    "\n",
    "        elif option == \"3\":\n",
    "            bankaccount1.withdraw()\n",
    "\n",
    "        elif option == \"4\":\n",
    "            bankaccount1.final_balance()\n",
    "\n",
    "        elif option.lower() == \"exit\":\n",
    "            break\n",
    "\n",
    "        else:\n",
    "            print(\"Invalid option. Please try again.\")\n"
   ]
  },
  {
   "cell_type": "code",
   "execution_count": null,
   "metadata": {},
   "outputs": [],
   "source": []
  }
 ],
 "metadata": {
  "kernelspec": {
   "display_name": "Python 3",
   "language": "python",
   "name": "python3"
  },
  "language_info": {
   "codemirror_mode": {
    "name": "ipython",
    "version": 3
   },
   "file_extension": ".py",
   "mimetype": "text/x-python",
   "name": "python",
   "nbconvert_exporter": "python",
   "pygments_lexer": "ipython3",
   "version": "3.11.4"
  },
  "orig_nbformat": 4
 },
 "nbformat": 4,
 "nbformat_minor": 2
}
