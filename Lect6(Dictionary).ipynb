{
 "cells": [
  {
   "cell_type": "code",
   "execution_count": 77,
   "metadata": {},
   "outputs": [
    {
     "name": "stdout",
     "output_type": "stream",
     "text": [
      "{'Name': 'Alice', 'Age': 22, 'City': 'Milan'}\n",
      "<class 'dict'>\n"
     ]
    }
   ],
   "source": [
    "# Dictionary in the python\n",
    "d1={\"Name\":\"Alice\",\"Age\":22,\"City\":\"Milan\"}\n",
    "print(d1)\n",
    "print(type(d1))"
   ]
  },
  {
   "cell_type": "code",
   "execution_count": 78,
   "metadata": {},
   "outputs": [],
   "source": [
    "# Data Dictionary may be ordered and unordered both\n",
    "# From python 3.7 onwards the dictionary are ordered but the previous version like Python 3.6 the dictionarry are unordered\n",
    "# Dictionary does not allow duplication\n",
    "# Key Value pair concept"
   ]
  },
  {
   "cell_type": "code",
   "execution_count": 79,
   "metadata": {},
   "outputs": [
    {
     "name": "stdout",
     "output_type": "stream",
     "text": [
      "Alice\n"
     ]
    }
   ],
   "source": [
    "# Accessing the value pair of dictionary using the key of the dictionary\n",
    "print(d1[\"Name\"])"
   ]
  },
  {
   "cell_type": "code",
   "execution_count": 80,
   "metadata": {},
   "outputs": [
    {
     "name": "stdout",
     "output_type": "stream",
     "text": [
      "{'Name': 'Alice', 'Age': 22, 'City': 'Delhi'}\n"
     ]
    }
   ],
   "source": [
    "# Duplicates are not allowed\n",
    "d1={\"Name\":\"Alice\",\"Age\":22,\"City\":\"Milan\",\"City\":\"Delhi\"}  # If we have two same key then last one will be print\n",
    "print(d1)"
   ]
  },
  {
   "cell_type": "code",
   "execution_count": 81,
   "metadata": {},
   "outputs": [
    {
     "name": "stdout",
     "output_type": "stream",
     "text": [
      "3\n"
     ]
    }
   ],
   "source": [
    "d1={\"Name\":\"Alice\",\"Age\":22,\"City\":\"Milan\"}\n",
    "print(len(d1)) # Length of the dictionary"
   ]
  },
  {
   "cell_type": "code",
   "execution_count": 82,
   "metadata": {},
   "outputs": [
    {
     "name": "stdout",
     "output_type": "stream",
     "text": [
      "dict_keys(['Name', 'Age', 'City'])\n",
      "Name\n",
      "Age\n",
      "City\n"
     ]
    }
   ],
   "source": [
    "# Printing the key values from the dictionary\n",
    "d1={\"Name\":\"Alice\",\"Age\":22,\"City\":\"Milan\"}\n",
    "ky = d1.keys()\n",
    "print(ky)\n",
    "# Printing using the for loop\n",
    "for k in ky:\n",
    "    print(k)"
   ]
  },
  {
   "cell_type": "code",
   "execution_count": 83,
   "metadata": {},
   "outputs": [
    {
     "name": "stdout",
     "output_type": "stream",
     "text": [
      "{'Name': 'Alice', 'Age': 21}\n"
     ]
    }
   ],
   "source": [
    "# Creating dictionary using constructor\n",
    "d1=dict(Name=\"Alice\",Age=21)\n",
    "print(d1)"
   ]
  },
  {
   "cell_type": "code",
   "execution_count": 84,
   "metadata": {},
   "outputs": [
    {
     "name": "stdout",
     "output_type": "stream",
     "text": [
      "{'Name': 'Alice', 'Age': 22, 'City': 'Milan', 'RollNo': 'ADDXER1234'}\n",
      "{'Name': 'Marry', 'Age': 22, 'City': 'Milan', 'RollNo': 'ADDXER1234'}\n"
     ]
    }
   ],
   "source": [
    "# Updating the element in the dictionary\n",
    "d1={\"Name\":\"Alice\",\"Age\":22,\"City\":\"Milan\",\"RollNo\":\"ADDXER1234\"}\n",
    "print(d1)\n",
    "d1[\"Name\"]=\"Marry\"\n",
    "print(d1)"
   ]
  },
  {
   "cell_type": "code",
   "execution_count": 85,
   "metadata": {},
   "outputs": [
    {
     "name": "stdout",
     "output_type": "stream",
     "text": [
      "{'Name': 'Alice', 'Age': 22, 'City': 'Milan', 'RollNo': 'ADDXER1234'}\n",
      "{'Name': 'Alice', 'Age': 22, 'City': 'Berlin', 'RollNo': 'ADDXER1234'}\n"
     ]
    }
   ],
   "source": [
    "# Another way to update\n",
    "d1={\"Name\":\"Alice\",\"Age\":22,\"City\":\"Milan\",\"RollNo\":\"ADDXER1234\"}\n",
    "print(d1)\n",
    "d1.update({\"City\":\"Berlin\"})\n",
    "print(d1)\n"
   ]
  },
  {
   "cell_type": "code",
   "execution_count": 86,
   "metadata": {},
   "outputs": [
    {
     "name": "stdout",
     "output_type": "stream",
     "text": [
      "{'Name': 'Alice', 'Age': 22, 'City': 'Milan', 'RollNo': 'ADDXER1234'}\n",
      "{'Name': 'Alice', 'Age': 22, 'City': 'Milan', 'RollNo': 'ADDXER1234', 'Grade': 'A'}\n"
     ]
    }
   ],
   "source": [
    "# Add another item into the dictionary\n",
    "d1={\"Name\":\"Alice\",\"Age\":22,\"City\":\"Milan\",\"RollNo\":\"ADDXER1234\"}\n",
    "print(d1)\n",
    "d1[\"Grade\"]=\"A\"\n",
    "print(d1)"
   ]
  },
  {
   "cell_type": "code",
   "execution_count": 87,
   "metadata": {},
   "outputs": [
    {
     "name": "stdout",
     "output_type": "stream",
     "text": [
      "{'Name': 'Alice', 'Age': 22, 'City': 'Milan', 'RollNo': 'ADDXER1234'}\n",
      "{'Name': 'Alice', 'Age': 22, 'City': 'Milan', 'RollNo': 'ADDXER1234', 'Grade': 'A'}\n"
     ]
    }
   ],
   "source": [
    "# Another way to add the function in the dictionary\n",
    "d1={\"Name\":\"Alice\",\"Age\":22,\"City\":\"Milan\",\"RollNo\":\"ADDXER1234\"}\n",
    "print(d1)\n",
    "d1.update({\"Grade\":\"A\"})\n",
    "print(d1)\n"
   ]
  },
  {
   "cell_type": "code",
   "execution_count": 88,
   "metadata": {},
   "outputs": [],
   "source": [
    "# We are using update function in both updating and adding the item in the dictionary if key is already is present then it will\n",
    "# update the value corresponding to that key and if key is not present then it will add both key and value"
   ]
  },
  {
   "cell_type": "code",
   "execution_count": 89,
   "metadata": {},
   "outputs": [
    {
     "name": "stdout",
     "output_type": "stream",
     "text": [
      "{'Name': 'Alice', 'Age': 22, 'City': 'Milan', 'RollNo': 'ADDXER1234'}\n",
      "{'Name': 'Alice', 'City': 'Milan', 'RollNo': 'ADDXER1234'}\n"
     ]
    }
   ],
   "source": [
    "# Deleting the item in the dictionary with the help of pop\n",
    "d1={\"Name\":\"Alice\",\"Age\":22,\"City\":\"Milan\",\"RollNo\":\"ADDXER1234\"}\n",
    "print(d1)\n",
    "d1.pop(\"Age\")\n",
    "print(d1)"
   ]
  },
  {
   "cell_type": "code",
   "execution_count": 90,
   "metadata": {},
   "outputs": [
    {
     "name": "stdout",
     "output_type": "stream",
     "text": [
      "{'Name': 'Alice', 'Age': 22, 'City': 'Milan', 'RollNo': 'ADDXER1234'}\n",
      "{'Name': 'Alice', 'City': 'Milan', 'RollNo': 'ADDXER1234'}\n"
     ]
    }
   ],
   "source": [
    "# Deleting the item in the dictionary with the help of del\n",
    "d1={\"Name\":\"Alice\",\"Age\":22,\"City\":\"Milan\",\"RollNo\":\"ADDXER1234\"}\n",
    "print(d1)\n",
    "del d1[\"Age\"]\n",
    "print(d1)"
   ]
  },
  {
   "cell_type": "code",
   "execution_count": 91,
   "metadata": {},
   "outputs": [],
   "source": [
    "# Deleting the entire dictionary\n",
    "# del d1 del will delete the whole dictionary "
   ]
  },
  {
   "cell_type": "code",
   "execution_count": 92,
   "metadata": {},
   "outputs": [
    {
     "name": "stdout",
     "output_type": "stream",
     "text": [
      "{'Name': 'Alice', 'Age': 22, 'City': 'Milan', 'RollNo': 'ADDXER1234'}\n",
      "{}\n"
     ]
    }
   ],
   "source": [
    "# We want to delete the entries of dictionaries but do not want to delete the whole dictionary\n",
    "d1={\"Name\":\"Alice\",\"Age\":22,\"City\":\"Milan\",\"RollNo\":\"ADDXER1234\"}\n",
    "print(d1)\n",
    "d1.clear()\n",
    "print(d1)"
   ]
  },
  {
   "cell_type": "code",
   "execution_count": 93,
   "metadata": {},
   "outputs": [
    {
     "name": "stdout",
     "output_type": "stream",
     "text": [
      "Name\n",
      "Age\n",
      "City\n",
      "RollNo\n"
     ]
    }
   ],
   "source": [
    "# Printing the key part\n",
    "d1={\"Name\":\"Alice\",\"Age\":22,\"City\":\"Milan\",\"RollNo\":\"ADDXER1234\"}\n",
    "for i in d1 :\n",
    "    print(i)"
   ]
  },
  {
   "cell_type": "code",
   "execution_count": 94,
   "metadata": {},
   "outputs": [
    {
     "name": "stdout",
     "output_type": "stream",
     "text": [
      "Alice\n",
      "22\n",
      "Milan\n",
      "ADDXER1234\n"
     ]
    }
   ],
   "source": [
    "# Printing the values part\n",
    "d1={\"Name\":\"Alice\",\"Age\":22,\"City\":\"Milan\",\"RollNo\":\"ADDXER1234\"}\n",
    "for i in d1.values() :\n",
    "    print(i)"
   ]
  },
  {
   "cell_type": "code",
   "execution_count": 95,
   "metadata": {},
   "outputs": [
    {
     "name": "stdout",
     "output_type": "stream",
     "text": [
      "{'Name': 'Alice', 'Age': 22, 'Designation': 'Manager'}\n"
     ]
    }
   ],
   "source": [
    "# Copying the d1 dictionary into the d2 dictionary\n",
    "d1={\"Name\":\"Alice\",\"Age\":22,\"Designation\":\"Manager\"}\n",
    "d2=d1.copy()\n",
    "print(d2)\n"
   ]
  },
  {
   "cell_type": "code",
   "execution_count": 96,
   "metadata": {},
   "outputs": [
    {
     "name": "stdout",
     "output_type": "stream",
     "text": [
      "{'d1': {'Name': 'Alice', 'Age': 22}, 'd2': {'Name': 'Alice', 'Age': 22}, 'd3': {'Name': 'Alice', 'Age': 22}}\n"
     ]
    }
   ],
   "source": [
    "# We can also created the nested dictionary\n",
    "d={\"d1\":{\"Name\":\"Alice\",\"Age\":22},\"d2\":{\"Name\":\"Alice\",\"Age\":22},\"d3\":{\"Name\":\"Alice\",\"Age\":22}}\n",
    "print(d)"
   ]
  },
  {
   "cell_type": "code",
   "execution_count": null,
   "metadata": {},
   "outputs": [],
   "source": []
  }
 ],
 "metadata": {
  "kernelspec": {
   "display_name": "Python 3",
   "language": "python",
   "name": "python3"
  },
  "language_info": {
   "codemirror_mode": {
    "name": "ipython",
    "version": 3
   },
   "file_extension": ".py",
   "mimetype": "text/x-python",
   "name": "python",
   "nbconvert_exporter": "python",
   "pygments_lexer": "ipython3",
   "version": "3.11.0"
  },
  "orig_nbformat": 4
 },
 "nbformat": 4,
 "nbformat_minor": 2
}
