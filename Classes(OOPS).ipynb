{
 "cells": [
  {
   "cell_type": "code",
   "execution_count": 4,
   "metadata": {},
   "outputs": [
    {
     "name": "stdout",
     "output_type": "stream",
     "text": [
      "<class '__main__.Person'>\n",
      "<__main__.Person object at 0x00000165E1BD8AD0>\n"
     ]
    }
   ],
   "source": [
    "# Here we hava created the class \n",
    "# These is the blue print\n",
    "class Person :\n",
    "    pass # Pass is showing I am not writing any functionality inside the class it is an empty class\n",
    "# Now we are defining our object/instance\n",
    "person1 = Person()\n",
    "print(type(person1))\n",
    "print(person1) # An object is created at is stored at this location 0x0000018B9B342ED0\n"
   ]
  },
  {
   "cell_type": "code",
   "execution_count": 5,
   "metadata": {},
   "outputs": [
    {
     "name": "stdout",
     "output_type": "stream",
     "text": [
      "Ayushman\n",
      "Gupta\n",
      "['__class__', '__delattr__', '__dict__', '__dir__', '__doc__', '__eq__', '__format__', '__ge__', '__getattribute__', '__getstate__', '__gt__', '__hash__', '__init__', '__init_subclass__', '__le__', '__lt__', '__module__', '__ne__', '__new__', '__reduce__', '__reduce_ex__', '__repr__', '__setattr__', '__sizeof__', '__str__', '__subclasshook__', '__weakref__', 'lastname', 'name']\n"
     ]
    }
   ],
   "source": [
    "# Now we are defining our attribute/person\n",
    "# These is not a good way\n",
    "person1.name = \"Ayushman\"\n",
    "print(person1.name) \n",
    "# Another attribute\n",
    "person1.lastname = 'Gupta'\n",
    "print(person1.lastname)\n",
    "# It is giving the attribute of the person1\n",
    "print(dir(person1))"
   ]
  },
  {
   "cell_type": "code",
   "execution_count": 15,
   "metadata": {},
   "outputs": [
    {
     "name": "stdout",
     "output_type": "stream",
     "text": [
      "Ayushman\n",
      "Gupta\n",
      "Shreyas\n",
      "Nair\n"
     ]
    }
   ],
   "source": [
    "class Person :\n",
    "    def __init__(self,name1,last_name1) : # These is an constructor initialization happen in the constructor\n",
    "        self.name = name1 # Self is taking about the current instance of the class\n",
    "        self.last_name = last_name1\n",
    "person = Person(\"Ayushman\",\"Gupta\")\n",
    "# Printing the first name\n",
    "print(person.name)\n",
    "# Printing the last name\n",
    "print(person.last_name)\n",
    "\n",
    "\n",
    "# Creating another object from the class name Person\n",
    "person2 = Person(\"Shreyas\",\"Nair\")\n",
    "# Printing the first name\n",
    "print(person2.name)\n",
    "# Printing the last name\n",
    "print(person2.last_name)"
   ]
  },
  {
   "cell_type": "code",
   "execution_count": 16,
   "metadata": {},
   "outputs": [
    {
     "name": "stdout",
     "output_type": "stream",
     "text": [
      "The name is Krish and the last name is Naik\n"
     ]
    }
   ],
   "source": [
    "class Person :\n",
    "    def __init__(self,name1,lastname1) :\n",
    "        self.name = name1\n",
    "        self.last_name = lastname1\n",
    "    def __str__(self) : # str is just the function to display the things\n",
    "        return \"The name is {} and the last name is {}\".format(self.name,self.last_name)\n",
    "person1 = Person(\"Krish\",\"Naik\")\n",
    "print(person1)"
   ]
  },
  {
   "cell_type": "code",
   "execution_count": 19,
   "metadata": {},
   "outputs": [
    {
     "name": "stdout",
     "output_type": "stream",
     "text": [
      "Hello how are you Krish\n"
     ]
    }
   ],
   "source": [
    "# Dot Format\n",
    "str = \"Hello how are you {}\".format(\"Krish\")\n",
    "print(str)"
   ]
  },
  {
   "cell_type": "code",
   "execution_count": 25,
   "metadata": {},
   "outputs": [
    {
     "name": "stdout",
     "output_type": "stream",
     "text": [
      "Account number is 123456\n",
      "Name of the holder is Alice\n",
      "Balance of the account is 450000\n"
     ]
    }
   ],
   "source": [
    "# Practice \n",
    "# Bank account class and add information like account number,account holder name,and balance\n",
    "class Bank_Account :\n",
    "    def __init__(self,account_no,name,balance=0) :\n",
    "        self.account_no=account_no\n",
    "        self.name=name\n",
    "        self.balance=balance\n",
    "Bank_Account1 = Bank_Account(\"123456\",\"Alice\",450000)\n",
    "print(\"Account number is {}\".format(Bank_Account1.account_no))\n",
    "print(\"Name of the holder is {}\".format(Bank_Account1.name))\n",
    "print(\"Balance of the account is {}\".format(Bank_Account1.balance))"
   ]
  },
  {
   "cell_type": "code",
   "execution_count": 40,
   "metadata": {},
   "outputs": [
    {
     "name": "stdout",
     "output_type": "stream",
     "text": [
      "0\n",
      "100\n",
      "50\n",
      "Gupta\n"
     ]
    }
   ],
   "source": [
    "class Bank_Account :\n",
    "    def __init__(self,account_no,name,balance=0) :\n",
    "        self.account_no=account_no\n",
    "        self.name=name\n",
    "        self.balance=balance\n",
    "# Now we are creating the functionality\n",
    "    def deposit(self,deposit) :  # Here self will fivr the data which is already present\n",
    "        self.balance = self.balance+deposit\n",
    "    def withdrawal(self,withdraw) :\n",
    "        if (withdraw<=self.balance) :\n",
    "            self.balance = self.balance-withdraw\n",
    "        else :\n",
    "            print(\"Your do not have sufficent balance your cuurent balance is {}\".format(self.balance))\n",
    "account1 = Bank_Account(\"1234\",\"Krish Naik\",0)\n",
    "print(account1.balance)\n",
    "# Now I am calling the deposit function\n",
    "account1.deposit(100)\n",
    "# New Balance\n",
    "print(account1.balance)\n",
    "account1.withdrawal(50)\n",
    "print(account1.balance)\n"
   ]
  },
  {
   "cell_type": "code",
   "execution_count": 47,
   "metadata": {},
   "outputs": [
    {
     "name": "stdout",
     "output_type": "stream",
     "text": [
      "The todo task of Krish\n",
      "The todo task of Krish\n",
      "I have to go outside at 09:00 AM\n",
      "Lunch\n",
      "Task is completed I have to go outside at 09:00 AM\n",
      "The todo task of Krish\n",
      "I have to go outside at 09:00 AM\n",
      "Lunch\n",
      "I have to go outside at 09:00 AM\n"
     ]
    }
   ],
   "source": [
    "# To do list \n",
    "class TodoList:\n",
    "    # Constructor\n",
    "    def __init__(self,owner) :\n",
    "        self.owner = owner\n",
    "        self.tasks = []\n",
    "    \n",
    "    def add_task(self,tasks) :\n",
    "        self.tasks.append(tasks)\n",
    "    \n",
    "    def complete_task(self,tasks) :\n",
    "        if (tasks in self.tasks) :\n",
    "            self.tasks.append(tasks)\n",
    "            print(\"Task is completed {}\".format(tasks))\n",
    "        else :\n",
    "            print(\"The task is not found\")\n",
    "    def display_task(self) :\n",
    "        print(\"The todo task of {}\".format(self.owner))\n",
    "        for task in self.tasks :\n",
    "            print(task)\n",
    "# Initializing the todo list\n",
    "krish = TodoList(\"Krish\")\n",
    "# krish.tasks\n",
    "krish.display_task()                              \n",
    "krish.add_task(\"I have to go outside at 09:00 AM\")\n",
    "krish.add_task(\"Lunch\")\n",
    "krish.display_task()  \n",
    "krish.complete_task(\"I have to go outside at 09:00 AM\")\n",
    "krish.display_task() \n",
    "\n",
    "\n",
    "    "
   ]
  },
  {
   "cell_type": "code",
   "execution_count": 6,
   "metadata": {},
   "outputs": [
    {
     "name": "stdout",
     "output_type": "stream",
     "text": [
      "Brand of the car is A\n",
      "Model of the car is B\n",
      "Color of the color is C\n",
      "I am driving the car\n",
      "Engine is started just now\n",
      "Engine is stopped just now\n"
     ]
    }
   ],
   "source": [
    "# Designign the class Car\n",
    "class Car :\n",
    "    def __init__(self,Brand,Model,Color) :\n",
    "        self.Brand = Brand\n",
    "        self.Model = Model\n",
    "        self.Color = Color\n",
    "    # Creating the function of the Car class\n",
    "    def driving(self) :\n",
    "        print(\"I am driving the car\")\n",
    "    def startEngine(self) :\n",
    "        print(\"Engine is started just now\")\n",
    "    def stopEngine(self) :\n",
    "        print(\"Engine is stopped just now\")\n",
    "Brand = input()\n",
    "Model = input()\n",
    "Color = input()\n",
    "\n",
    "car1 = Car(Brand,Model,Color)\n",
    "print(\"Brand of the car is {}\".format(car1.Brand))\n",
    "print(\"Model of the car is {}\".format(car1.Model))\n",
    "print(\"Color of the color is {}\".format(car1.Color))\n",
    "car1.driving()\n",
    "car1.startEngine()\n",
    "car1.stopEngine()"
   ]
  },
  {
   "cell_type": "code",
   "execution_count": 8,
   "metadata": {},
   "outputs": [
    {
     "name": "stdout",
     "output_type": "stream",
     "text": [
      "Samsung phone is calling with the number 9893724202 and the price of the phone is 1000000\n",
      "We are playing the games in the Samsung\n",
      "We are sending the message How are you !! from the phone which has the brand name Samsung and the model name is Z\n"
     ]
    }
   ],
   "source": [
    "# Designing the class for the mobile phone\n",
    "class Mobile :\n",
    "    def __init__(self,Brand,Model,Proccessor,Price) :\n",
    "        self.Brand = Brand\n",
    "        self.Model = Model\n",
    "        self.Processor = Proccessor\n",
    "        self.Price = Price\n",
    "    # Creating the functionality of the class\n",
    "    def make_calls(self,number) :\n",
    "        print(\"{} phone is calling with the number {} and the price of the phone is {}\".format(self.Brand,number,self.Price))\n",
    "    def playing_games(self) :\n",
    "        print(\"We are playing the games in the {}\".format(self.Brand))\n",
    "    def send_message(self,message) :\n",
    "        print(\"We are sending the message {} from the phone which has the brand name {} and the model name is {}\".format(message,self.Brand,self.Model))\n",
    "\n",
    "mobile1 = Mobile(\"Samsung\",\"Z\",\"SnapDragon\",\"1000000\")\n",
    "mobile1.make_calls(9893724202)\n",
    "mobile1.playing_games()\n",
    "mobile1.send_message(\"How are you !!\")\n"
   ]
  },
  {
   "cell_type": "code",
   "execution_count": 13,
   "metadata": {},
   "outputs": [
    {
     "name": "stdout",
     "output_type": "stream",
     "text": [
      "The laptop is turning on which has the name Pavilion and the brand is HP\n",
      "The laptop is turning off which has the name Pavilion and the brand is HP\n"
     ]
    }
   ],
   "source": [
    "# Designing the class Laptop\n",
    "class Laptop :\n",
    "    def __init__(self,Brand,Name) :\n",
    "        self.Brand = Brand\n",
    "        self.Name = Name\n",
    "    \n",
    "    def turn_on(self) :\n",
    "        print(\"The laptop is turning on which has the name {} and the brand is {}\".format(self.Name,self.Brand))\n",
    "    def turn_off(self) :\n",
    "        print(\"The laptop is turning off which has the name {} and the brand is {}\".format(self.Name,self.Brand))\n",
    "\n",
    "laptop1 = Laptop(\"HP\",\"Pavilion\")\n",
    "laptop1.turn_on()\n",
    "laptop1.turn_off()\n",
    "\n"
   ]
  },
  {
   "cell_type": "code",
   "execution_count": 12,
   "metadata": {},
   "outputs": [
    {
     "name": "stdout",
     "output_type": "stream",
     "text": [
      "The name of the person is Tom\n",
      "Roll no of the person is 1234\n"
     ]
    }
   ],
   "source": [
    "class Person :\n",
    "    def __init__(self,name) :\n",
    "        self.name = name\n",
    "    \n",
    "    def display(self) :\n",
    "        print(\"The name of the person is {}\".format(self.name))\n",
    "\n",
    "class Student(Person) :\n",
    "    def __init__(self,roll,name) :\n",
    "        self.roll = roll\n",
    "        super().__init__(name)\n",
    "\n",
    "    def display_student(self) :\n",
    "        super().display()\n",
    "        print(\"Roll no of the person is {}\".format(self.roll))\n",
    "\n",
    "student1 = Student(1234,\"Tom\")\n",
    "student1.display_student()\n",
    "    \n"
   ]
  },
  {
   "cell_type": "code",
   "execution_count": 21,
   "metadata": {},
   "outputs": [
    {
     "name": "stdout",
     "output_type": "stream",
     "text": [
      "Roll no of the person is 1234 and the name of the person is Tom\n"
     ]
    }
   ],
   "source": [
    "class Person:\n",
    "    def __init__(self, name):\n",
    "        self.name = name\n",
    "    \n",
    "    def display(self):\n",
    "        print(\"The name of the person is {}\".format(self.name))\n",
    "\n",
    "class Student(Person):\n",
    "    def __init__(self, roll, name):\n",
    "        self.roll = roll\n",
    "        super().__init__(name)\n",
    "\n",
    "    def display_student(self):\n",
    "        # super().display()\n",
    "        print(\"Roll no of the person is {} and the name of the person is {}\".format(self.roll,self.name))\n",
    "\n",
    "student1 = Student(1234,\"Tom\")\n",
    "student1.display_student()\n"
   ]
  },
  {
   "cell_type": "code",
   "execution_count": null,
   "metadata": {},
   "outputs": [],
   "source": []
  }
 ],
 "metadata": {
  "kernelspec": {
   "display_name": "Python 3",
   "language": "python",
   "name": "python3"
  },
  "language_info": {
   "codemirror_mode": {
    "name": "ipython",
    "version": 3
   },
   "file_extension": ".py",
   "mimetype": "text/x-python",
   "name": "python",
   "nbconvert_exporter": "python",
   "pygments_lexer": "ipython3",
   "version": "3.11.4"
  },
  "orig_nbformat": 4
 },
 "nbformat": 4,
 "nbformat_minor": 2
}
