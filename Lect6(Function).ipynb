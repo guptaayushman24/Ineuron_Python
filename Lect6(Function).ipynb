{
 "cells": [
  {
   "cell_type": "code",
   "execution_count": 1,
   "metadata": {},
   "outputs": [],
   "source": [
    "# Why we need the function\n",
    "# Sometime built in function cannot fulfill our demand"
   ]
  },
  {
   "cell_type": "code",
   "execution_count": 4,
   "metadata": {},
   "outputs": [
    {
     "name": "stdout",
     "output_type": "stream",
     "text": [
      "This is our 3rd week\n"
     ]
    }
   ],
   "source": [
    "# Declaring the function here\n",
    "def MyFirstFunction() :\n",
    "    print(\"This is our 3rd week\")\n",
    "# Calling the function here\n",
    "MyFirstFunction()\n"
   ]
  },
  {
   "cell_type": "code",
   "execution_count": 8,
   "metadata": {},
   "outputs": [
    {
     "name": "stdout",
     "output_type": "stream",
     "text": [
      "Alice Is a good student\n"
     ]
    }
   ],
   "source": [
    "# Passing the argument/parameter in the function\n",
    "def MySecondFunction(name) :\n",
    "    print(name + \" Is a good student\")\n",
    "MySecondFunction(\"Alice\")"
   ]
  },
  {
   "cell_type": "code",
   "execution_count": 1,
   "metadata": {},
   "outputs": [],
   "source": [
    "def introduction():\n",
    "    print(\"These is my introductory of the function in python\")\n"
   ]
  },
  {
   "cell_type": "code",
   "execution_count": 2,
   "metadata": {},
   "outputs": [
    {
     "name": "stdout",
     "output_type": "stream",
     "text": [
      "These is my introductory of the function in python\n"
     ]
    }
   ],
   "source": [
    "# Here we are calling the function introduction\n",
    "introduction()"
   ]
  },
  {
   "cell_type": "code",
   "execution_count": 6,
   "metadata": {},
   "outputs": [
    {
     "name": "stdout",
     "output_type": "stream",
     "text": [
      "Jack This is my name\n"
     ]
    }
   ],
   "source": [
    "def introduction(firstName) :\n",
    "    print(firstName + \" This is my name\")\n",
    "# Calling the function introduction\n",
    "introduction(\"Jack\")"
   ]
  },
  {
   "cell_type": "code",
   "execution_count": 9,
   "metadata": {},
   "outputs": [
    {
     "name": "stdout",
     "output_type": "stream",
     "text": [
      "Alice\n",
      "Alter\n"
     ]
    }
   ],
   "source": [
    "def introduction(firstName,lastnamne) :\n",
    "    print(firstName)\n",
    "    print(lastnamne)\n",
    "introduction(\"Alice\",\"Alter\")"
   ]
  },
  {
   "cell_type": "code",
   "execution_count": 12,
   "metadata": {},
   "outputs": [
    {
     "name": "stdout",
     "output_type": "stream",
     "text": [
      "Alice\n",
      " \n"
     ]
    }
   ],
   "source": [
    "def introduction(firstName,lastnamne= ' ') :\n",
    "    print(firstName)\n",
    "    print(lastnamne)\n",
    "    # If we are passing only one argument at the time of the function calling then we have to give the space in the argument which means that second parameter can be empty also\n",
    "introduction(\"Alice\")"
   ]
  },
  {
   "cell_type": "code",
   "execution_count": 32,
   "metadata": {},
   "outputs": [
    {
     "name": "stdout",
     "output_type": "stream",
     "text": [
      "None\n"
     ]
    }
   ],
   "source": [
    "# Return \n",
    "def add__num(num1,num2) :\n",
    "    sum = num1+num2\n",
    "result = add__num(5,3)\n",
    "print(result) # We are expecting output 8 but here output is coming none    "
   ]
  },
  {
   "cell_type": "code",
   "execution_count": 33,
   "metadata": {},
   "outputs": [
    {
     "name": "stdout",
     "output_type": "stream",
     "text": [
      "8\n"
     ]
    }
   ],
   "source": [
    "# We need to use the return for the sum\n",
    "def add__num(num1,num2) :\n",
    "    sum = num1+num2\n",
    "    return sum # Whenever I return the function then I can use these function anywhere outside the function\n",
    "result = add__num(5,3)\n",
    "print(result)"
   ]
  },
  {
   "cell_type": "code",
   "execution_count": 43,
   "metadata": {},
   "outputs": [
    {
     "name": "stdout",
     "output_type": "stream",
     "text": [
      "35\n"
     ]
    }
   ],
   "source": [
    "def multiply (num1,num2) :\n",
    "    multi = num1*num2\n",
    "    return multi\n",
    "result = multiply(5,7)\n",
    "print(result)\n",
    "\n",
    "\n"
   ]
  },
  {
   "cell_type": "code",
   "execution_count": 53,
   "metadata": {},
   "outputs": [
    {
     "name": "stdout",
     "output_type": "stream",
     "text": [
      "15\n",
      "1.1428571428571428\n"
     ]
    }
   ],
   "source": [
    "# Make the function which takes the two argument num1 and num2 and the input is taken by the user\n",
    "def add_num(num1,num2) :\n",
    "    return num1+num2;\n",
    "def sub_num(num1,num2) :\n",
    "    if (num1>=num2) :\n",
    "        return num1-num2\n",
    "    else :\n",
    "        return num2-num1\n",
    "def multi_num(num1,num2) :\n",
    "    return num1*num2\n",
    "def divide_num(num1,num2) :\n",
    "    return num1/num2\n",
    "\n",
    "\n",
    "\n",
    "num1 = int(input())\n",
    "num2 = int(input())\n",
    "# Now calling the function one by one\n",
    "print(add__num(num1,num2))\n",
    "print(divide_num(num1,num2))\n"
   ]
  },
  {
   "cell_type": "code",
   "execution_count": null,
   "metadata": {},
   "outputs": [],
   "source": [
    "# Create the function name calculator and in that function apply all the operation"
   ]
  },
  {
   "cell_type": "code",
   "execution_count": 1,
   "metadata": {},
   "outputs": [
    {
     "name": "stdout",
     "output_type": "stream",
     "text": [
      "The sum of the two numbers: 6.0\n",
      "The difference of the two numbers: 2.0\n",
      "The multiplication of two number is: 8.0\n",
      "The division of two number is: 2.0\n"
     ]
    }
   ],
   "source": [
    "def calculator() :\n",
    "    num1 = float(input())\n",
    "    num2 = float(input())\n",
    "\n",
    "    # Addition\n",
    "    sum_result = num1+num2\n",
    "    # Difference\n",
    "    diff_result = num1-num2\n",
    "    # Multiply\n",
    "    mult_result = num1*num2\n",
    "    # Divide\n",
    "    div_result = num1/num2\n",
    "    return{                 # Here we want to return the all the operation but in one function only one operation is possible so in return part we created the dictionary\n",
    "        \"sum\":sum_result,\n",
    "        \"diff\":diff_result,\n",
    "        \"product\":mult_result,\n",
    "        \"quotient\":div_result\n",
    "    }\n",
    "result = calculator()\n",
    "print(\"The sum of the two numbers:\",result[\"sum\"])\n",
    "print(\"The difference of the two numbers:\",result[\"diff\"])\n",
    "print(\"The multiplication of two number is:\",result[\"product\"])\n",
    "print(\"The division of two number is:\",result[\"quotient\"])"
   ]
  },
  {
   "cell_type": "code",
   "execution_count": 11,
   "metadata": {},
   "outputs": [
    {
     "name": "stdout",
     "output_type": "stream",
     "text": [
      "Your name is : Alice Alter\n"
     ]
    }
   ],
   "source": [
    "# Built in function in the user defined function\n",
    "\n",
    "# Let user enter first name and last name in any form (capital,small,fusion)\n",
    "# Output: alice ALTER -> Alice Alter\n",
    "\n",
    "def print_name(firstname,lastname) :\n",
    "    m_firstname = firstname[0].upper()\n",
    "    m_lastname = lastname[0].upper()\n",
    "    print(\"Your name is :\",m_firstname+firstname[1:].lower()+ \" \"+m_lastname+lastname[1:].lower())\n",
    "print_name(\"aLiCe\",\"aLtEr\")"
   ]
  },
  {
   "cell_type": "code",
   "execution_count": 13,
   "metadata": {},
   "outputs": [
    {
     "name": "stdout",
     "output_type": "stream",
     "text": [
      "Student name :  Alice Alter\n"
     ]
    }
   ],
   "source": [
    "# Here we use capitalize function which is inbuilt and will convert first letter to capital letter\n",
    "def format_name() :\n",
    "    first_name=input(\"Enter the first name :\")\n",
    "    last_name = input(\"Enter the second name:\")\n",
    "    format_first_name = first_name.capitalize()\n",
    "    format_last_name = last_name.capitalize()\n",
    "    print(\"Student name : \",format_first_name,format_last_name)\n",
    "format_name()\n"
   ]
  },
  {
   "cell_type": "code",
   "execution_count": 24,
   "metadata": {},
   "outputs": [
    {
     "name": "stdout",
     "output_type": "stream",
     "text": [
      "2 4 6 8 10 12 14 16 18 20 22 24 26 28 30 32 34 36 38 40 42 44 46 48 50 52 54 56 58 60 62 64 66 68 70 72 74 76 78 80 82 84 86 88 90 92 94 96 98 100 "
     ]
    }
   ],
   "source": [
    "# Loops inside the function\n",
    "\n",
    "# You have to take the number from user and print all the even number\n",
    "def print_even():\n",
    "     num = int(input(\"Enter the number here:\"))\n",
    "     for i in range (1,num+1) :\n",
    "          if (i%2==0) :\n",
    "               print(i,end=\" \")\n",
    "               \n",
    "print_even()\n",
    "# Inside the function you can also create the list and append the even number in that list"
   ]
  },
  {
   "cell_type": "code",
   "execution_count": 25,
   "metadata": {},
   "outputs": [
    {
     "name": "stdout",
     "output_type": "stream",
     "text": [
      "10\n"
     ]
    }
   ],
   "source": [
    "# Lambda Function\n",
    "# You cannot include if-else statement\n",
    "# You cannot include the loops in the lamda function\n",
    "# You can ony use the mathematical expression in the lambda function\n",
    "# When you have to do small task and it is the single line function\n",
    "# Very simple if-else and for loop can be used\n",
    "# Adding two number using lambda function\n",
    "add = lambda x,y:x+y\n",
    "print(add(6,4))"
   ]
  },
  {
   "cell_type": "code",
   "execution_count": 27,
   "metadata": {},
   "outputs": [
    {
     "name": "stdout",
     "output_type": "stream",
     "text": [
      "25\n",
      "16\n",
      "100\n",
      "121\n"
     ]
    }
   ],
   "source": [
    "# Calculating the square of a number using lambda function\n",
    "square = lambda x: x**2\n",
    "print(square(5))\n",
    "print(square(4))\n",
    "print(square(10))\n",
    "print(square(11))\n"
   ]
  },
  {
   "cell_type": "code",
   "execution_count": 32,
   "metadata": {},
   "outputs": [
    {
     "name": "stdout",
     "output_type": "stream",
     "text": [
      "Good Morning\n",
      "Hello World\n"
     ]
    }
   ],
   "source": [
    "# Concanicating two string using lambda function\n",
    "concat = lambda x,y: x+\" \"+y\n",
    "print(concat(\"Good\",\"Morning\"))\n",
    "print(concat(\"Hello\",\"World\"))"
   ]
  },
  {
   "cell_type": "code",
   "execution_count": 35,
   "metadata": {},
   "outputs": [
    {
     "name": "stdout",
     "output_type": "stream",
     "text": [
      "16\n",
      "20\n"
     ]
    }
   ],
   "source": [
    "# Doing multiplication using lamda function\n",
    "multi = lambda x,y: x*y\n",
    "print(multi(2,8))\n",
    "print(multi(5,4))"
   ]
  },
  {
   "cell_type": "code",
   "execution_count": 37,
   "metadata": {},
   "outputs": [
    {
     "name": "stdout",
     "output_type": "stream",
     "text": [
      "odd\n",
      "even\n"
     ]
    }
   ],
   "source": [
    "# Checking even and odd using lamda functiion\n",
    "even_or_odd = lambda x: 'even' if x%2==0 else 'odd'\n",
    "print(even_or_odd(9))\n",
    "print(even_or_odd(12))"
   ]
  },
  {
   "cell_type": "code",
   "execution_count": 43,
   "metadata": {},
   "outputs": [
    {
     "name": "stdout",
     "output_type": "stream",
     "text": [
      "5 min\n",
      "12 max\n"
     ]
    }
   ],
   "source": [
    "# Checking maximum and minimum of two number using lambda function\n",
    "max_min = lambda x,y: str(x) +\" \"+ 'max' if x>y else str(y) +\" \"+ 'min' \n",
    "print(max_min(4,5))\n",
    "print(max_min(12,10))"
   ]
  },
  {
   "cell_type": "code",
   "execution_count": 44,
   "metadata": {},
   "outputs": [
    {
     "name": "stdout",
     "output_type": "stream",
     "text": [
      "6\n"
     ]
    }
   ],
   "source": [
    "# Taking input from the user using lambda function\n",
    "# User \n",
    "f = lambda :input(\"Enter number:\")\n",
    "print(f())\n",
    "# It is not recommended to take the input from the user using lambda function"
   ]
  },
  {
   "cell_type": "code",
   "execution_count": 47,
   "metadata": {},
   "outputs": [],
   "source": [
    "# f = lambda x,x*x\n",
    "# num = int(input())\n",
    "# print(f(num))\n",
    "# These is also throwing error"
   ]
  },
  {
   "cell_type": "code",
   "execution_count": 2,
   "metadata": {},
   "outputs": [
    {
     "name": "stdout",
     "output_type": "stream",
     "text": [
      "12\n",
      "12\n"
     ]
    }
   ],
   "source": [
    "# lambda function to add three number\n",
    "sum_num = lambda x,y,z:x+y+z\n",
    "x=int(input())\n",
    "y = int(input())\n",
    "z = int(input())\n",
    "print(sum_num(x,y,z))"
   ]
  },
  {
   "cell_type": "code",
   "execution_count": 4,
   "metadata": {},
   "outputs": [
    {
     "name": "stdout",
     "output_type": "stream",
     "text": [
      "13\n"
     ]
    }
   ],
   "source": [
    "add = lambda: int(input(\"Enter the first number :\"))+int(input(\"Enter the second number :\"))\n",
    "print(add())"
   ]
  },
  {
   "cell_type": "code",
   "execution_count": 5,
   "metadata": {},
   "outputs": [
    {
     "name": "stdout",
     "output_type": "stream",
     "text": [
      "[1, 4, 9, 16, 25]\n"
     ]
    }
   ],
   "source": [
    "# I have to compute the squaes of the number in the list\n",
    "my_list_cal = lambda x:[i**2 for i in x]\n",
    "print(my_list_cal([1,2,3,4,5]))"
   ]
  },
  {
   "cell_type": "code",
   "execution_count": 6,
   "metadata": {},
   "outputs": [
    {
     "name": "stdout",
     "output_type": "stream",
     "text": [
      "{'name': 'Laptop', 'price': 40000}\n",
      "{'name': 'Printer', 'price': 20000}\n",
      "{'name': 'Phone', 'price': 10000}\n",
      "{'name': 'Headphone', 'price': 5000}\n"
     ]
    }
   ],
   "source": [
    "# Lambda used with map(),filter(),reduce(),sorted()\n",
    "products=[{'name':'Phone','price':10000},{'name':'Printer','price':20000},{'name':'Laptop','price':40000},{'name':'Headphone','price':5000}]\n",
    "# We want to sort the product according to the proce\n",
    "sorted_products=sorted(products,key=lambda x: x['price']) # For sorting in the reverse order write reversem= True\n",
    "for products in sorted_products :\n",
    "    print(products)"
   ]
  },
  {
   "cell_type": "code",
   "execution_count": 12,
   "metadata": {},
   "outputs": [
    {
     "name": "stdout",
     "output_type": "stream",
     "text": [
      "[10, 20, 40, 90, 80]\n"
     ]
    }
   ],
   "source": [
    "# Passing the list as the argument\n",
    "def print_list(number) :\n",
    "    for i in range (0,len(number)) :\n",
    "        print(number[i],end=\" \")\n",
    "    return number\n",
    "number=[10,20,40,90,80]\n",
    "print(number)\n",
    "\n",
    "    \n",
    "    "
   ]
  },
  {
   "cell_type": "code",
   "execution_count": null,
   "metadata": {},
   "outputs": [],
   "source": []
  }
 ],
 "metadata": {
  "kernelspec": {
   "display_name": "Python 3",
   "language": "python",
   "name": "python3"
  },
  "language_info": {
   "codemirror_mode": {
    "name": "ipython",
    "version": 3
   },
   "file_extension": ".py",
   "mimetype": "text/x-python",
   "name": "python",
   "nbconvert_exporter": "python",
   "pygments_lexer": "ipython3",
   "version": "3.11.0"
  },
  "orig_nbformat": 4
 },
 "nbformat": 4,
 "nbformat_minor": 2
}
