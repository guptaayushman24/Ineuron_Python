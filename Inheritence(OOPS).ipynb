{
 "cells": [
  {
   "cell_type": "code",
   "execution_count": 33,
   "metadata": {},
   "outputs": [],
   "source": [
    "#  Inheritence"
   ]
  },
  {
   "cell_type": "code",
   "execution_count": 2,
   "metadata": {},
   "outputs": [
    {
     "name": "stdout",
     "output_type": "stream",
     "text": [
      "Name is Krish\n"
     ]
    }
   ],
   "source": [
    "class Person :\n",
    "    def __init__(self,name) :\n",
    "        self.name = name\n",
    "    def display_info(self) :\n",
    "        print(\"Name is {}\".format(self.name))\n",
    "\n",
    "person = Person(\"Krish\")\n",
    "person.display_info()"
   ]
  },
  {
   "cell_type": "code",
   "execution_count": 3,
   "metadata": {},
   "outputs": [
    {
     "name": "stdout",
     "output_type": "stream",
     "text": [
      "Name is Krish\n",
      "Grade is A\n"
     ]
    }
   ],
   "source": [
    "# Here we are creating the student class and inhereting the Person class\n",
    "class Student(Person) :\n",
    "    def __init__(self,name,grade) :# Here I am calling the parent constructor with the help of the super keyword\n",
    "           super().__init__(name)\n",
    "           self.grade = grade\n",
    "# Now student can call the parent function also\n",
    "    def display_info(self) :\n",
    "        super().display_info() # Here we are calling the parent function with the help of the super keyword \n",
    "        print(\"Grade is {}\".format(self.grade))\n",
    "student1 = Student(\"Krish\",\"A\")\n",
    "student1.display_info()\n"
   ]
  },
  {
   "cell_type": "code",
   "execution_count": 36,
   "metadata": {},
   "outputs": [
    {
     "name": "stdout",
     "output_type": "stream",
     "text": [
      "Name is Alice\n",
      "Name of the subject is Data Science\n"
     ]
    }
   ],
   "source": [
    "# Here we are creating the teacher class and inheriting the person class\n",
    "class Teacher(Person) :\n",
    "    def __init__(self,name,subject) :\n",
    "        super().__init__(name)\n",
    "        self.subject = subject\n",
    "    def displayinfo(self) :\n",
    "        super().display_info()\n",
    "        print(\"Name of the subject is {}\".format(self.subject))        \n",
    "teacher1 = Teacher(\"Alice\",\"Data Science\")\n",
    "teacher1.displayinfo()"
   ]
  },
  {
   "cell_type": "code",
   "execution_count": 37,
   "metadata": {},
   "outputs": [],
   "source": [
    "# Create the class Vehicle\n",
    "# Attribute-> Model,Brand\n",
    "# Method -> Start\n",
    "# Now make differnt class like Bicycle,Car and Inherite it from Vehicle class"
   ]
  },
  {
   "cell_type": "code",
   "execution_count": 38,
   "metadata": {},
   "outputs": [],
   "source": [
    "class Vehicle :\n",
    "    def __init__(self,brand) :\n",
    "        self.brand = brand\n",
    "    \n",
    "    def start(self) :\n",
    "      print(\"{} is starting\".format(self.brand))\n",
    "# vehicle1 = Vehicle(\"A\")\n",
    "# vehicle1.start()\n",
    "  "
   ]
  },
  {
   "cell_type": "code",
   "execution_count": 40,
   "metadata": {},
   "outputs": [
    {
     "name": "stdout",
     "output_type": "stream",
     "text": [
      "Hero is starting\n",
      "Hero and Simple is ready to go\n"
     ]
    }
   ],
   "source": [
    "# Now we are creating the Bicycle Cycle which is inhereting the Vehicle class\n",
    "class Bicycle(Vehicle) :\n",
    "    def __init__(self,model,brand) :\n",
    "        self.model = model\n",
    "        super().__init__(brand)\n",
    "    \n",
    "    def start1(self) :\n",
    "        super().start()\n",
    "        print(\"{} and {} is ready to go\".format(self.brand,self.model))\n",
    "\n",
    "bicycle1 = Bicycle(\"Simple\",\"Hero\")\n",
    "bicycle1.start1()\n",
    "\n",
    "\n",
    "        "
   ]
  },
  {
   "cell_type": "code",
   "execution_count": 41,
   "metadata": {},
   "outputs": [],
   "source": [
    "# Crete the class Animal\n",
    "# Attribute->Name \n",
    "# Create class Cat inherit the name from Animal and create sound function in the cat class only\n",
    "# Create class Dog inherit the name from Animal and create sound function in the dog class only\n",
    "\n",
    "class Animal :\n",
    "    def __init__(self,name) :\n",
    "        self.name = name\n",
    "    \n",
    "    def display_name(self) :\n",
    "        print(\"Name of the animal is {}\".format(self.name))\n"
   ]
  },
  {
   "cell_type": "code",
   "execution_count": 47,
   "metadata": {},
   "outputs": [
    {
     "name": "stdout",
     "output_type": "stream",
     "text": [
      "Name of the animal is Jerry\n",
      "Name of the animal is Jerry and the sound is Meow Meow\n"
     ]
    }
   ],
   "source": [
    "class Cat(Animal) :\n",
    "    def __init__(self,name,sound) :\n",
    "        self.sound = sound\n",
    "        super().__init__(name)\n",
    "    def display_sound_cat(self) :\n",
    "        super().display_name()\n",
    "        print(\"Name of the animal is {} and the sound is {}\".format(self.name,self.sound))\n",
    "\n",
    "cat = Cat(\"Jerry\",\"Meow Meow\")\n",
    "cat.display_sound_cat()  \n"
   ]
  },
  {
   "cell_type": "code",
   "execution_count": 51,
   "metadata": {},
   "outputs": [
    {
     "name": "stdout",
     "output_type": "stream",
     "text": [
      "Name of the animal is Germand Shephard and the sound is Bhow Bhow\n"
     ]
    }
   ],
   "source": [
    "class Dog(Animal) :\n",
    "    def __init__(self,name,sound) :\n",
    "        self.sound = sound\n",
    "        super().__init__(name)\n",
    "    \n",
    "    def display_sound_dog(self) :\n",
    "        super().display_name()\n",
    "        print(\"Name of the animal is {} and the sound is {}\".format(self.name,self.sound))\n",
    "\n",
    "dog = Dog(\"Germand Shephard\",\"Bhow Bhow\")\n",
    "dog.display_sound_dog()      "
   ]
  },
  {
   "cell_type": "code",
   "execution_count": 52,
   "metadata": {},
   "outputs": [
    {
     "name": "stdout",
     "output_type": "stream",
     "text": [
      "The name is Krish and the last name is Naik\n"
     ]
    }
   ],
   "source": [
    "# Access Modifier\n",
    "# 1-> Public\n",
    "# 2-> Protected\n",
    "# 3-> Private\n",
    "\n",
    "# Public Access Modifier->Public Access Modifier:\n",
    "#The members of a class that are declared public are easily accessible from any part of the program. All data members and member functions of a class are public by default.\n",
    "class Person :\n",
    "    def __init__(self,name,lastname) :\n",
    "        self.name = name\n",
    "        self.lastname = lastname\n",
    "    \n",
    "    def display(self) :\n",
    "        print(\"The name is {} and the last name is {}\".format(self.name,self.lastname))\n",
    "person1 = Person(\"Krish\",\"Naik\")\n",
    "person1.display()"
   ]
  },
  {
   "cell_type": "code",
   "execution_count": 56,
   "metadata": {},
   "outputs": [
    {
     "name": "stdout",
     "output_type": "stream",
     "text": [
      "Name is :Ayushman\n",
      "Name is Ayushman and the roll no is 123\n"
     ]
    }
   ],
   "source": [
    "# Example of Protected Access Modifier \n",
    "class Student :\n",
    "    # Protected Attribute\n",
    "    def __init__(self,name,roll) :\n",
    "        self._name = name\n",
    "        self._roll = roll\n",
    "\n",
    "    def _display(self) :\n",
    "        print(\"Name is {} and the roll no is {}\".format(self._name,self._roll))\n",
    "\n",
    "# Creating the derived class\n",
    "class Genius(Student) :\n",
    "    def __init__(self,name,roll) :\n",
    "        super().__init__(name,roll)\n",
    "\n",
    "    def displaydetails(self) :\n",
    "        print(\"Name is :{}\".format(self._name))\n",
    "        self._display() # There is no need of writing super keyword when we are calling the function of the parent class becauese it is the protected function\n",
    "\n",
    "genius = Genius(\"Ayushman\",123)\n",
    "genius.displaydetails()\n",
    "    \n",
    "\n",
    "\n",
    "\n",
    "    \n"
   ]
  },
  {
   "cell_type": "code",
   "execution_count": 2,
   "metadata": {},
   "outputs": [
    {
     "name": "stdout",
     "output_type": "stream",
     "text": [
      "Name is Krish and roll number is 1234\n"
     ]
    }
   ],
   "source": [
    "# Example of Private Access Modifier\n",
    "class Student :\n",
    "    def __init__(self,name,roll) :\n",
    "        self.__name = name\n",
    "        self.__roll = roll\n",
    "\n",
    "    def __display(self) :\n",
    "        print(\"Name is {} and roll number is {}\".format(self.__name,self.__roll))\n",
    "\n",
    "    def display(self) : # These is the public function\n",
    "        self.__display()\n",
    "student1 = Student(\"Krish\",\"1234\")\n",
    "student1.display() # With the help of accessing the private function with the help of the public function\n"
   ]
  },
  {
   "cell_type": "code",
   "execution_count": 4,
   "metadata": {},
   "outputs": [
    {
     "data": {
      "text/plain": [
       "'Wow!'"
      ]
     },
     "execution_count": 4,
     "metadata": {},
     "output_type": "execute_result"
    }
   ],
   "source": [
    "# Polymorphism -> Multiple forms\n",
    "# Example of the polymorphism\n",
    "class Animal :\n",
    "    def __init__(self,name) :\n",
    "        self.name = name\n",
    "    \n",
    "    def make_sound(self,sound) :\n",
    "        pass\n",
    "\n",
    "class Dog(Animal) :\n",
    "    # Here we are not creating the __init__method becaues here we do not want to create any additional attribute like name\n",
    "    def make_sound(self) :\n",
    "        return \"Wow!\"\n",
    "    \n",
    "class Cat(Animal) :\n",
    "    def make_sound(self) :\n",
    "        return \"Meow!\"\n",
    "    \n",
    "cat = Cat(\"Tom\")\n",
    "cat.make_sound()\n",
    "\n",
    "dog = Dog(\"Tomy\")\n",
    "dog.make_sound()\n"
   ]
  },
  {
   "cell_type": "code",
   "execution_count": null,
   "metadata": {},
   "outputs": [],
   "source": [
    "# From the child class how can we call the parent class function\n",
    "class Person :\n",
    "  def __init__(self,name,age) :\n",
    "    self.name = name\n",
    "    self.age = age\n",
    "\n",
    "\n",
    "  def person_detail(self) :\n",
    "    print(\"The name of the person is {} and the age of the person is {}\".format(self.name,self.age))\n",
    "class Student(Person) :\n",
    "  def __init__(self,name,grade,age) :\n",
    "    self.grade = grade\n",
    "    super().__init__(name,age)\n",
    "\n",
    "  def detail(self) :\n",
    "    print(\"The name of the student is {} and the grade is {}\".format(self.name,self.grade))\n",
    "\n",
    "  def function_calling(self) :\n",
    "    Person.person_detail(self)\n",
    "\n",
    "  \n",
    "student = Student(\"Alice\",\"A\",45)\n",
    "student.detail()\n",
    "student.function_calling()"
   ]
  }
 ],
 "metadata": {
  "kernelspec": {
   "display_name": "Python 3",
   "language": "python",
   "name": "python3"
  },
  "language_info": {
   "codemirror_mode": {
    "name": "ipython",
    "version": 3
   },
   "file_extension": ".py",
   "mimetype": "text/x-python",
   "name": "python",
   "nbconvert_exporter": "python",
   "pygments_lexer": "ipython3",
   "version": "3.11.4"
  },
  "orig_nbformat": 4
 },
 "nbformat": 4,
 "nbformat_minor": 2
}
