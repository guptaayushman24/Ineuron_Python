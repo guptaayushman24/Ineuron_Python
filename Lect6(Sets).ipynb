{
 "cells": [
  {
   "cell_type": "code",
   "execution_count": 10,
   "metadata": {},
   "outputs": [
    {
     "name": "stdout",
     "output_type": "stream",
     "text": [
      "{'US', 'UK', 'Germany'}\n"
     ]
    }
   ],
   "source": [
    "set1={\"UK\",\"US\",\"Germany\"} # Sets are not oredered they are unordered\n",
    "print(set1)"
   ]
  },
  {
   "cell_type": "code",
   "execution_count": 11,
   "metadata": {},
   "outputs": [],
   "source": [
    "# You cannot change the item of the set but you can remove or add the item of the set"
   ]
  },
  {
   "cell_type": "code",
   "execution_count": 12,
   "metadata": {},
   "outputs": [
    {
     "name": "stdout",
     "output_type": "stream",
     "text": [
      "{'US', 'UK', 'Germany'}\n"
     ]
    }
   ],
   "source": [
    "# Operation on the sets\n",
    "# We cannot have duplicate sets\n",
    "set1={\"UK\",\"US\",\"Germany\",\"Germany\"}\n",
    "print(set1)\n"
   ]
  },
  {
   "cell_type": "code",
   "execution_count": 13,
   "metadata": {},
   "outputs": [
    {
     "name": "stdout",
     "output_type": "stream",
     "text": [
      "3\n"
     ]
    }
   ],
   "source": [
    "# Length of the sets\n",
    "set1={\"UK\",\"US\",\"Germany\",\"Germany\"}\n",
    "print(len(set1))"
   ]
  },
  {
   "cell_type": "code",
   "execution_count": 14,
   "metadata": {},
   "outputs": [
    {
     "name": "stdout",
     "output_type": "stream",
     "text": [
      "<class 'set'>\n"
     ]
    }
   ],
   "source": [
    "print(type(set1))"
   ]
  },
  {
   "cell_type": "code",
   "execution_count": 16,
   "metadata": {},
   "outputs": [
    {
     "name": "stdout",
     "output_type": "stream",
     "text": [
      "{'US', 'UK', 'Germany'}\n"
     ]
    }
   ],
   "source": [
    "# Set Constructor\n",
    "set1=set((\"UK\",\"US\",\"Germany\",\"Germany\")) # There are two ways for creating the set\n",
    "print(set1)"
   ]
  },
  {
   "cell_type": "code",
   "execution_count": 17,
   "metadata": {},
   "outputs": [
    {
     "name": "stdout",
     "output_type": "stream",
     "text": [
      "{'US', 'UK', 10, 20, 40, 'Germany', 30}\n"
     ]
    }
   ],
   "source": [
    "# Union()\n",
    "set1={\"UK\",\"US\",\"Germany\",\"Germany\"}\n",
    "set2={10,20,30,40}\n",
    "set3 = set1.union(set2)\n",
    "print(set3)"
   ]
  },
  {
   "cell_type": "code",
   "execution_count": 18,
   "metadata": {},
   "outputs": [
    {
     "name": "stdout",
     "output_type": "stream",
     "text": [
      "{'US', 'UK', 10, 20, 40, 'Germany', 30}\n"
     ]
    }
   ],
   "source": [
    "# Update()\n",
    "set1={\"UK\",\"US\",\"Germany\",\"Germany\"}\n",
    "set2={10,20,30,40}\n",
    "set1.update(set2)\n",
    "print(set1)"
   ]
  },
  {
   "cell_type": "code",
   "execution_count": 20,
   "metadata": {},
   "outputs": [
    {
     "name": "stdout",
     "output_type": "stream",
     "text": [
      "{'Germany'}\n"
     ]
    }
   ],
   "source": [
    "# I just want to both commann element from the two set\n",
    "# Intersection\n",
    "set1={\"UK\",\"US\",\"Germany\"}\n",
    "set2={\"KSA\",\"Italy\",\"Germany\",\"India\"}\n",
    "set1.intersection_update(set2)  # Only comman things which are in both the sets\n",
    "print(set1)"
   ]
  },
  {
   "cell_type": "code",
   "execution_count": null,
   "metadata": {},
   "outputs": [],
   "source": [
    "nn"
   ]
  }
 ],
 "metadata": {
  "kernelspec": {
   "display_name": "Python 3",
   "language": "python",
   "name": "python3"
  },
  "language_info": {
   "codemirror_mode": {
    "name": "ipython",
    "version": 3
   },
   "file_extension": ".py",
   "mimetype": "text/x-python",
   "name": "python",
   "nbconvert_exporter": "python",
   "pygments_lexer": "ipython3",
   "version": "3.11.0"
  },
  "orig_nbformat": 4
 },
 "nbformat": 4,
 "nbformat_minor": 2
}
